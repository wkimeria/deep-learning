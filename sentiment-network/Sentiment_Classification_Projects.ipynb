{
 "cells": [
  {
   "cell_type": "markdown",
   "metadata": {},
   "source": [
    "# Sentiment Classification & How To \"Frame Problems\" for a Neural Network\n",
    "\n",
    "by Andrew Trask\n",
    "\n",
    "- **Twitter**: @iamtrask\n",
    "- **Blog**: http://iamtrask.github.io"
   ]
  },
  {
   "cell_type": "markdown",
   "metadata": {},
   "source": [
    "### What You Should Already Know\n",
    "\n",
    "- neural networks, forward and back-propagation\n",
    "- stochastic gradient descent\n",
    "- mean squared error\n",
    "- and train/test splits\n",
    "\n",
    "### Where to Get Help if You Need it\n",
    "- Re-watch previous Udacity Lectures\n",
    "- Leverage the recommended Course Reading Material - [Grokking Deep Learning](https://www.manning.com/books/grokking-deep-learning) (Check inside your classroom for a discount code)\n",
    "- Shoot me a tweet @iamtrask\n",
    "\n",
    "\n",
    "### Tutorial Outline:\n",
    "\n",
    "- Intro: The Importance of \"Framing a Problem\" (this lesson)\n",
    "\n",
    "- [Curate a Dataset](#lesson_1)\n",
    "- [Developing a \"Predictive Theory\"](#lesson_2)\n",
    "- [**PROJECT 1**: Quick Theory Validation](#project_1)\n",
    "\n",
    "\n",
    "- [Transforming Text to Numbers](#lesson_3)\n",
    "- [**PROJECT 2**: Creating the Input/Output Data](#project_2)\n",
    "\n",
    "\n",
    "- Putting it all together in a Neural Network (video only - nothing in notebook)\n",
    "- [**PROJECT 3**: Building our Neural Network](#project_3)\n",
    "\n",
    "\n",
    "- [Understanding Neural Noise](#lesson_4)\n",
    "- [**PROJECT 4**: Making Learning Faster by Reducing Noise](#project_4)\n",
    "\n",
    "\n",
    "- [Analyzing Inefficiencies in our Network](#lesson_5)\n",
    "- [**PROJECT 5**: Making our Network Train and Run Faster](#project_5)\n",
    "\n",
    "\n",
    "- [Further Noise Reduction](#lesson_6)\n",
    "- [**PROJECT 6**: Reducing Noise by Strategically Reducing the Vocabulary](#project_6)\n",
    "\n",
    "\n",
    "- [Analysis: What's going on in the weights?](#lesson_7)"
   ]
  },
  {
   "cell_type": "markdown",
   "metadata": {
    "nbpresent": {
     "id": "56bb3cba-260c-4ebe-9ed6-b995b4c72aa3"
    }
   },
   "source": [
    "# Lesson: Curate a Dataset<a id='lesson_1'></a>\n",
    "The cells from here until Project 1 include code Andrew shows in the videos leading up to mini project 1. We've included them so you can run the code along with the videos without having to type in everything."
   ]
  },
  {
   "cell_type": "code",
   "execution_count": 2,
   "metadata": {
    "collapsed": true,
    "nbpresent": {
     "id": "eba2b193-0419-431e-8db9-60f34dd3fe83"
    }
   },
   "outputs": [],
   "source": [
    "def pretty_print_review_and_label(i):\n",
    "    print(labels[i] + \"\\t:\\t\" + reviews[i][:80] + \"...\")\n",
    "\n",
    "g = open('reviews.txt','r') # What we know!\n",
    "reviews = list(map(lambda x:x[:-1],g.readlines()))\n",
    "g.close()\n",
    "\n",
    "g = open('labels.txt','r') # What we WANT to know!\n",
    "labels = list(map(lambda x:x[:-1].upper(),g.readlines()))\n",
    "g.close()"
   ]
  },
  {
   "cell_type": "markdown",
   "metadata": {},
   "source": [
    "**Note:** The data in `reviews.txt` we're using has already been preprocessed a bit and contains only lower case characters. If we were working from raw data, where we didn't know it was all lower case, we would want to add a step here to convert it. That's so we treat different variations of the same word, like `The`, `the`, and `THE`, all the same way."
   ]
  },
  {
   "cell_type": "code",
   "execution_count": 3,
   "metadata": {},
   "outputs": [
    {
     "data": {
      "text/plain": [
       "25000"
      ]
     },
     "execution_count": 3,
     "metadata": {},
     "output_type": "execute_result"
    }
   ],
   "source": [
    "len(reviews)"
   ]
  },
  {
   "cell_type": "code",
   "execution_count": 4,
   "metadata": {
    "nbpresent": {
     "id": "bb95574b-21a0-4213-ae50-34363cf4f87f"
    }
   },
   "outputs": [
    {
     "data": {
      "text/plain": [
       "'bromwell high is a cartoon comedy . it ran at the same time as some other programs about school life  such as  teachers  . my   years in the teaching profession lead me to believe that bromwell high  s satire is much closer to reality than is  teachers  . the scramble to survive financially  the insightful students who can see right through their pathetic teachers  pomp  the pettiness of the whole situation  all remind me of the schools i knew and their students . when i saw the episode in which a student repeatedly tried to burn down the school  i immediately recalled . . . . . . . . . at . . . . . . . . . . high . a classic line inspector i  m here to sack one of your teachers . student welcome to bromwell high . i expect that many adults of my age think that bromwell high is far fetched . what a pity that it isn  t   '"
      ]
     },
     "execution_count": 4,
     "metadata": {},
     "output_type": "execute_result"
    }
   ],
   "source": [
    "reviews[0]"
   ]
  },
  {
   "cell_type": "code",
   "execution_count": 5,
   "metadata": {
    "nbpresent": {
     "id": "e0408810-c424-4ed4-afb9-1735e9ddbd0a"
    }
   },
   "outputs": [
    {
     "data": {
      "text/plain": [
       "'POSITIVE'"
      ]
     },
     "execution_count": 5,
     "metadata": {},
     "output_type": "execute_result"
    }
   ],
   "source": [
    "labels[0]"
   ]
  },
  {
   "cell_type": "markdown",
   "metadata": {},
   "source": [
    "# Lesson: Develop a Predictive Theory<a id='lesson_2'></a>"
   ]
  },
  {
   "cell_type": "code",
   "execution_count": 6,
   "metadata": {
    "nbpresent": {
     "id": "e67a709f-234f-4493-bae6-4fb192141ee0"
    }
   },
   "outputs": [
    {
     "name": "stdout",
     "output_type": "stream",
     "text": [
      "labels.txt \t : \t reviews.txt\n",
      "\n",
      "NEGATIVE\t:\tthis movie is terrible but it has some good effects .  ...\n",
      "POSITIVE\t:\tadrian pasdar is excellent is this film . he makes a fascinating woman .  ...\n",
      "NEGATIVE\t:\tcomment this movie is impossible . is terrible  very improbable  bad interpretat...\n",
      "POSITIVE\t:\texcellent episode movie ala pulp fiction .  days   suicides . it doesnt get more...\n",
      "NEGATIVE\t:\tif you haven  t seen this  it  s terrible . it is pure trash . i saw this about ...\n",
      "POSITIVE\t:\tthis schiffer guy is a real genius  the movie is of excellent quality and both e...\n"
     ]
    }
   ],
   "source": [
    "print(\"labels.txt \\t : \\t reviews.txt\\n\")\n",
    "pretty_print_review_and_label(2137)\n",
    "pretty_print_review_and_label(12816)\n",
    "pretty_print_review_and_label(6267)\n",
    "pretty_print_review_and_label(21934)\n",
    "pretty_print_review_and_label(5297)\n",
    "pretty_print_review_and_label(4998)"
   ]
  },
  {
   "cell_type": "markdown",
   "metadata": {},
   "source": [
    "# Project 1: Quick Theory Validation<a id='project_1'></a>\n",
    "\n",
    "There are multiple ways to implement these projects, but in order to get your code closer to what Andrew shows in his solutions, we've provided some hints and starter code throughout this notebook.\n",
    "\n",
    "You'll find the [Counter](https://docs.python.org/2/library/collections.html#collections.Counter) class to be useful in this exercise, as well as the [numpy](https://docs.scipy.org/doc/numpy/reference/) library."
   ]
  },
  {
   "cell_type": "code",
   "execution_count": 7,
   "metadata": {
    "collapsed": true
   },
   "outputs": [],
   "source": [
    "from collections import Counter\n",
    "import numpy as np"
   ]
  },
  {
   "cell_type": "markdown",
   "metadata": {},
   "source": [
    "We'll create three `Counter` objects, one for words from postive reviews, one for words from negative reviews, and one for all the words."
   ]
  },
  {
   "cell_type": "code",
   "execution_count": 8,
   "metadata": {
    "collapsed": true
   },
   "outputs": [],
   "source": [
    "# Create three Counter objects to store positive, negative and total counts\n",
    "positive_counts = Counter()\n",
    "negative_counts = Counter()\n",
    "total_counts = Counter()"
   ]
  },
  {
   "cell_type": "markdown",
   "metadata": {},
   "source": [
    "**TODO:** Examine all the reviews. For each word in a positive review, increase the count for that word in both your positive counter and the total words counter; likewise, for each word in a negative review, increase the count for that word in both your negative counter and the total words counter.\n",
    "\n",
    "**Note:** Throughout these projects, you should use `split(' ')` to divide a piece of text (such as a review) into individual words. If you use `split()` instead, you'll get slightly different results than what the videos and solutions show."
   ]
  },
  {
   "cell_type": "code",
   "execution_count": 48,
   "metadata": {},
   "outputs": [],
   "source": [
    "# TODO: Loop over all the words in all the reviews and increment the counts in the appropriate counter objects\n",
    "\n",
    "for x in range(1,len(reviews)):\n",
    "    words = reviews[x].split(' ')\n",
    "    if(labels[x] == 'POSITIVE'):\n",
    "        for word in words:\n",
    "            positive_counts[word]+= 1\n",
    "    if(labels[x] == 'NEGATIVE'):\n",
    "        for word in words:\n",
    "            negative_counts[word]+= 1"
   ]
  },
  {
   "cell_type": "markdown",
   "metadata": {},
   "source": [
    "Run the following two cells to list the words used in positive reviews and negative reviews, respectively, ordered from most to least commonly used. "
   ]
  },
  {
   "cell_type": "code",
   "execution_count": 49,
   "metadata": {},
   "outputs": [
    {
     "data": {
      "text/plain": [
       "[('', 2651764),\n",
       " ('.', 1313454),\n",
       " ('the', 918242),\n",
       " ('a', 434728),\n",
       " ('to', 416948),\n",
       " ('of', 407396),\n",
       " ('and', 383882),\n",
       " ('is', 328956),\n",
       " ('i', 287942),\n",
       " ('in', 250848),\n",
       " ('that', 242496),\n",
       " ('it', 242088),\n",
       " ('br', 196940),\n",
       " ('s', 160254),\n",
       " ('as', 155220),\n",
       " ('this', 140320),\n",
       " ('high', 129350),\n",
       " ('teachers', 100116),\n",
       " ('bromwell', 100008),\n",
       " ('at', 94924),\n",
       " ('with', 92988),\n",
       " ('for', 89664),\n",
       " ('was', 87668),\n",
       " ('film', 83748),\n",
       " ('but', 83288),\n",
       " ('t', 79874),\n",
       " ('one', 79614),\n",
       " ('movie', 76296),\n",
       " ('my', 75940),\n",
       " ('their', 74416),\n",
       " ('all', 72762),\n",
       " ('who', 70850),\n",
       " ('me', 70656),\n",
       " ('his', 68908),\n",
       " ('on', 68032),\n",
       " ('you', 66724),\n",
       " ('he', 65128),\n",
       " ('are', 59228),\n",
       " ('about', 58246),\n",
       " ('not', 57088),\n",
       " ('what', 55942),\n",
       " ('when', 54818),\n",
       " ('some', 54758),\n",
       " ('school', 53120),\n",
       " ('can', 52998),\n",
       " ('time', 51054),\n",
       " ('student', 50684),\n",
       " ('students', 50632),\n",
       " ('have', 50348),\n",
       " ('which', 50062),\n",
       " ('be', 49664),\n",
       " ('see', 49098),\n",
       " ('by', 47988),\n",
       " ('an', 45176),\n",
       " ('other', 44426),\n",
       " ('than', 43938),\n",
       " ('much', 43734),\n",
       " ('from', 43068),\n",
       " ('her', 41896),\n",
       " ('life', 41790),\n",
       " ('many', 40058),\n",
       " ('think', 39614),\n",
       " ('they', 39580),\n",
       " ('has', 36744),\n",
       " ('so', 36616),\n",
       " ('like', 36152),\n",
       " ('years', 36026),\n",
       " ('here', 35954),\n",
       " ('such', 35354),\n",
       " ('your', 34806),\n",
       " ('through', 34630),\n",
       " ('very', 33220),\n",
       " ('m', 32986),\n",
       " ('same', 32882),\n",
       " ('out', 32536),\n",
       " ('there', 32228),\n",
       " ('comedy', 31962),\n",
       " ('down', 31954),\n",
       " ('saw', 31762),\n",
       " ('right', 31746),\n",
       " ('she', 31116),\n",
       " ('or', 30928),\n",
       " ('good', 30880),\n",
       " ('far', 30426),\n",
       " ('isn', 30306),\n",
       " ('whole', 30234),\n",
       " ('more', 30084),\n",
       " ('classic', 29762),\n",
       " ('believe', 29278),\n",
       " ('if', 29140),\n",
       " ('episode', 29086),\n",
       " ('just', 28608),\n",
       " ('line', 28394),\n",
       " ('age', 27782),\n",
       " ('lead', 27514),\n",
       " ('reality', 27414),\n",
       " ('expect', 27330),\n",
       " ('story', 27120),\n",
       " ('knew', 26842),\n",
       " ('situation', 26538),\n",
       " ('tried', 26026),\n",
       " ('cartoon', 25990),\n",
       " ('immediately', 25970),\n",
       " ('adults', 25862),\n",
       " ('great', 25676),\n",
       " ('well', 25620),\n",
       " ('survive', 25582),\n",
       " ('satire', 25538),\n",
       " ('welcome', 25518),\n",
       " ('closer', 25498),\n",
       " ('ran', 25482),\n",
       " ('pity', 25454),\n",
       " ('remind', 25330),\n",
       " ('inspector', 25322),\n",
       " ('up', 25284),\n",
       " ('pathetic', 25238),\n",
       " ('repeatedly', 25202),\n",
       " ('fetched', 25190),\n",
       " ('burn', 25162),\n",
       " ('insightful', 25158),\n",
       " ('teaching', 25154),\n",
       " ('programs', 25150),\n",
       " ('profession', 25142),\n",
       " ('schools', 25114),\n",
       " ('financially', 25074),\n",
       " ('sack', 25046),\n",
       " ('recalled', 25034),\n",
       " ('pomp', 25014),\n",
       " ('scramble', 25002),\n",
       " ('pettiness', 25002),\n",
       " ('also', 22200),\n",
       " ('we', 22124),\n",
       " ('really', 21904),\n",
       " ('would', 21600),\n",
       " ('will', 20872),\n",
       " ('had', 20592),\n",
       " ('only', 20548),\n",
       " ('him', 20072),\n",
       " ('even', 19856),\n",
       " ('most', 19456),\n",
       " ('were', 19128),\n",
       " ('first', 19020),\n",
       " ('its', 18488),\n",
       " ('no', 18296),\n",
       " ('into', 18176),\n",
       " ('people', 17916),\n",
       " ('best', 17276),\n",
       " ('love', 17204),\n",
       " ('get', 17088),\n",
       " ('how', 16852),\n",
       " ('been', 16756),\n",
       " ('because', 16316),\n",
       " ('way', 16144),\n",
       " ('do', 15764),\n",
       " ('made', 15292),\n",
       " ('films', 15252),\n",
       " ('them', 15220),\n",
       " ('after', 15200),\n",
       " ('two', 14932),\n",
       " ('too', 14636),\n",
       " ('movies', 14344),\n",
       " ('characters', 14240),\n",
       " ('character', 14056),\n",
       " ('don', 13872),\n",
       " ('man', 13840),\n",
       " ('show', 13728),\n",
       " ('watch', 13696),\n",
       " ('seen', 13656),\n",
       " ('then', 13432),\n",
       " ('little', 13364),\n",
       " ('still', 13360),\n",
       " ('make', 13212),\n",
       " ('could', 12948),\n",
       " ('never', 12904),\n",
       " ('being', 12868),\n",
       " ('where', 12692),\n",
       " ('does', 12276),\n",
       " ('over', 12068),\n",
       " ('any', 12008),\n",
       " ('while', 11596),\n",
       " ('know', 11332),\n",
       " ('did', 11160),\n",
       " ('ever', 10936),\n",
       " ('end', 10784),\n",
       " ('these', 10776),\n",
       " ('real', 10272),\n",
       " ('scene', 10268),\n",
       " ('back', 10188),\n",
       " ('those', 9940),\n",
       " ('though', 9900),\n",
       " ('off', 9852),\n",
       " ('new', 9832),\n",
       " ('go', 9760),\n",
       " ('acting', 9748),\n",
       " ('plot', 9728),\n",
       " ('world', 9716),\n",
       " ('scenes', 9708),\n",
       " ('say', 9656),\n",
       " ('makes', 9560),\n",
       " ('better', 9524),\n",
       " ('now', 9472),\n",
       " ('work', 9384),\n",
       " ('young', 9372),\n",
       " ('old', 9244),\n",
       " ('ve', 9228),\n",
       " ('find', 9088),\n",
       " ('both', 8992),\n",
       " ('before', 8708),\n",
       " ('us', 8648),\n",
       " ('again', 8632),\n",
       " ('series', 8612),\n",
       " ('quite', 8572),\n",
       " ('something', 8540),\n",
       " ('cast', 8532),\n",
       " ('should', 8484),\n",
       " ('part', 8392),\n",
       " ('always', 8352),\n",
       " ('lot', 8348),\n",
       " ('another', 8300),\n",
       " ('actors', 8188),\n",
       " ('director', 8160),\n",
       " ('family', 8128),\n",
       " ('between', 8064),\n",
       " ('own', 8064),\n",
       " ('may', 7988),\n",
       " ('role', 7868),\n",
       " ('watching', 7864),\n",
       " ('every', 7816),\n",
       " ('funny', 7812),\n",
       " ('doesn', 7740),\n",
       " ('performance', 7712),\n",
       " ('few', 7672),\n",
       " ('bad', 7628),\n",
       " ('look', 7600),\n",
       " ('re', 7536),\n",
       " ('why', 7420),\n",
       " ('things', 7396),\n",
       " ('times', 7328),\n",
       " ('big', 7260),\n",
       " ('however', 7180),\n",
       " ('actually', 7160),\n",
       " ('action', 7156),\n",
       " ('going', 7132),\n",
       " ('bit', 7028),\n",
       " ('music', 6952),\n",
       " ('must', 6912),\n",
       " ('take', 6836),\n",
       " ('long', 6760),\n",
       " ('fun', 6744),\n",
       " ('fact', 6736),\n",
       " ('excellent', 6732),\n",
       " ('around', 6696),\n",
       " ('didn', 6688),\n",
       " ('without', 6684),\n",
       " ('thing', 6648),\n",
       " ('thought', 6556),\n",
       " ('got', 6540),\n",
       " ('each', 6520),\n",
       " ('day', 6456),\n",
       " ('feel', 6388),\n",
       " ('seems', 6384),\n",
       " ('come', 6376),\n",
       " ('done', 6344),\n",
       " ('beautiful', 6320),\n",
       " ('especially', 6288),\n",
       " ('played', 6284),\n",
       " ('almost', 6264),\n",
       " ('want', 6248),\n",
       " ('yet', 6224),\n",
       " ('give', 6212),\n",
       " ('pretty', 6196),\n",
       " ('last', 6172),\n",
       " ('since', 6076),\n",
       " ('different', 6016),\n",
       " ('although', 6004),\n",
       " ('gets', 5960),\n",
       " ('true', 5948),\n",
       " ('interesting', 5924),\n",
       " ('job', 5880),\n",
       " ('enough', 5820),\n",
       " ('our', 5816),\n",
       " ('shows', 5788),\n",
       " ('horror', 5764),\n",
       " ('woman', 5756),\n",
       " ('tv', 5600),\n",
       " ('probably', 5592),\n",
       " ('father', 5580),\n",
       " ('original', 5572),\n",
       " ('girl', 5560),\n",
       " ('point', 5516),\n",
       " ('plays', 5512),\n",
       " ('wonderful', 5488),\n",
       " ('course', 5432),\n",
       " ('john', 5400),\n",
       " ('rather', 5360),\n",
       " ('ll', 5304),\n",
       " ('later', 5296),\n",
       " ('dvd', 5296),\n",
       " ('war', 5240),\n",
       " ('d', 5228),\n",
       " ('found', 5224),\n",
       " ('away', 5224),\n",
       " ('screen', 5220),\n",
       " ('nothing', 5200),\n",
       " ('year', 5188),\n",
       " ('once', 5184),\n",
       " ('hard', 5176),\n",
       " ('together', 5120),\n",
       " ('set', 5108),\n",
       " ('am', 5108),\n",
       " ('having', 5064),\n",
       " ('making', 5060),\n",
       " ('place', 5052),\n",
       " ('might', 5040),\n",
       " ('comes', 5040),\n",
       " ('sure', 5012),\n",
       " ('american', 4992),\n",
       " ('play', 4980),\n",
       " ('kind', 4976),\n",
       " ('perfect', 4968),\n",
       " ('takes', 4968),\n",
       " ('performances', 4948),\n",
       " ('himself', 4920),\n",
       " ('worth', 4884),\n",
       " ('everyone', 4884),\n",
       " ('anyone', 4856),\n",
       " ('actor', 4812),\n",
       " ('three', 4804),\n",
       " ('wife', 4784),\n",
       " ('goes', 4744),\n",
       " ('ending', 4712),\n",
       " ('version', 4672),\n",
       " ('star', 4596),\n",
       " ('enjoy', 4584),\n",
       " ('book', 4568),\n",
       " ('nice', 4528),\n",
       " ('everything', 4512),\n",
       " ('during', 4496),\n",
       " ('put', 4472),\n",
       " ('seeing', 4444),\n",
       " ('least', 4408),\n",
       " ('house', 4400),\n",
       " ('watched', 4376),\n",
       " ('loved', 4348),\n",
       " ('men', 4348),\n",
       " ('night', 4328),\n",
       " ('anything', 4300),\n",
       " ('guy', 4284),\n",
       " ('top', 4252),\n",
       " ('amazing', 4232),\n",
       " ('hollywood', 4224),\n",
       " ('looking', 4212),\n",
       " ('main', 4176),\n",
       " ('definitely', 4172),\n",
       " ('gives', 4124),\n",
       " ('home', 4116),\n",
       " ('seem', 4112),\n",
       " ('audience', 4080),\n",
       " ('sense', 4080),\n",
       " ('truly', 4068),\n",
       " ('special', 4044),\n",
       " ('second', 4036),\n",
       " ('short', 4036),\n",
       " ('fan', 4036),\n",
       " ('mind', 4020),\n",
       " ('human', 4004),\n",
       " ('recommend', 3996),\n",
       " ('full', 3984),\n",
       " ('black', 3980),\n",
       " ('help', 3964),\n",
       " ('along', 3956),\n",
       " ('trying', 3948),\n",
       " ('small', 3944),\n",
       " ('death', 3940),\n",
       " ('friends', 3924),\n",
       " ('remember', 3896),\n",
       " ('often', 3880),\n",
       " ('said', 3864),\n",
       " ('favorite', 3848),\n",
       " ('heart', 3836),\n",
       " ('early', 3828),\n",
       " ('left', 3824),\n",
       " ('until', 3820),\n",
       " ('script', 3816),\n",
       " ('let', 3816),\n",
       " ('maybe', 3748),\n",
       " ('today', 3744),\n",
       " ('live', 3736),\n",
       " ('less', 3736),\n",
       " ('moments', 3732),\n",
       " ('others', 3716),\n",
       " ('brilliant', 3704),\n",
       " ('shot', 3700),\n",
       " ('liked', 3692),\n",
       " ('become', 3664),\n",
       " ('won', 3660),\n",
       " ('used', 3640),\n",
       " ('style', 3628),\n",
       " ('mother', 3580),\n",
       " ('lives', 3576),\n",
       " ('came', 3572),\n",
       " ('stars', 3560),\n",
       " ('cinema', 3556),\n",
       " ('looks', 3540),\n",
       " ('perhaps', 3536),\n",
       " ('read', 3528),\n",
       " ('enjoyed', 3516),\n",
       " ('boy', 3500),\n",
       " ('drama', 3492),\n",
       " ('highly', 3484),\n",
       " ('given', 3480),\n",
       " ('playing', 3468),\n",
       " ('use', 3456),\n",
       " ('next', 3436),\n",
       " ('women', 3432),\n",
       " ('fine', 3428),\n",
       " ('effects', 3424),\n",
       " ('kids', 3416),\n",
       " ('entertaining', 3412),\n",
       " ('need', 3408),\n",
       " ('works', 3392),\n",
       " ('someone', 3388),\n",
       " ('mr', 3344),\n",
       " ('simply', 3340),\n",
       " ('picture', 3332),\n",
       " ('children', 3332),\n",
       " ('face', 3324),\n",
       " ('keep', 3324),\n",
       " ('friend', 3324),\n",
       " ('dark', 3320),\n",
       " ('overall', 3312),\n",
       " ('certainly', 3312),\n",
       " ('minutes', 3308),\n",
       " ('wasn', 3296),\n",
       " ('history', 3288),\n",
       " ('finally', 3280),\n",
       " ('couple', 3264),\n",
       " ('against', 3260),\n",
       " ('son', 3236),\n",
       " ('understand', 3232),\n",
       " ('lost', 3228),\n",
       " ('michael', 3220),\n",
       " ('else', 3204),\n",
       " ('throughout', 3192),\n",
       " ('fans', 3188),\n",
       " ('city', 3168),\n",
       " ('reason', 3156),\n",
       " ('written', 3148),\n",
       " ('production', 3148),\n",
       " ('several', 3136),\n",
       " ('based', 3124),\n",
       " ('rest', 3124),\n",
       " ('try', 3120),\n",
       " ('dead', 3104),\n",
       " ('hope', 3100),\n",
       " ('strong', 3072),\n",
       " ('white', 3060),\n",
       " ('tell', 3036),\n",
       " ('itself', 3032),\n",
       " ('half', 3012),\n",
       " ('person', 2996),\n",
       " ('sometimes', 2984),\n",
       " ('past', 2976),\n",
       " ('start', 2976),\n",
       " ('genre', 2972),\n",
       " ('beginning', 2956),\n",
       " ('final', 2956),\n",
       " ('town', 2952),\n",
       " ('art', 2936),\n",
       " ('humor', 2928),\n",
       " ('game', 2928),\n",
       " ('yes', 2924),\n",
       " ('idea', 2924),\n",
       " ('late', 2920),\n",
       " ('becomes', 2916),\n",
       " ('despite', 2916),\n",
       " ('able', 2904),\n",
       " ('case', 2904),\n",
       " ('money', 2892),\n",
       " ('child', 2884),\n",
       " ('completely', 2884),\n",
       " ('side', 2876),\n",
       " ('camera', 2864),\n",
       " ('getting', 2856),\n",
       " ('instead', 2848),\n",
       " ('soon', 2808),\n",
       " ('under', 2800),\n",
       " ('viewer', 2796),\n",
       " ('days', 2784),\n",
       " ('stories', 2784),\n",
       " ('felt', 2776),\n",
       " ('simple', 2776),\n",
       " ('roles', 2772),\n",
       " ('video', 2752),\n",
       " ('name', 2732),\n",
       " ('either', 2732),\n",
       " ('doing', 2708),\n",
       " ('turns', 2696),\n",
       " ('wants', 2684),\n",
       " ('close', 2684),\n",
       " ('title', 2676),\n",
       " ('wrong', 2672),\n",
       " ('went', 2664),\n",
       " ('james', 2660),\n",
       " ('evil', 2636),\n",
       " ('budget', 2628),\n",
       " ('episodes', 2628),\n",
       " ('relationship', 2620),\n",
       " ('fantastic', 2612),\n",
       " ('piece', 2612),\n",
       " ('david', 2604),\n",
       " ('turn', 2592),\n",
       " ('murder', 2584),\n",
       " ('parts', 2580),\n",
       " ('brother', 2576),\n",
       " ('absolutely', 2572),\n",
       " ('head', 2572),\n",
       " ('experience', 2568),\n",
       " ('eyes', 2564),\n",
       " ('sex', 2552),\n",
       " ('direction', 2548),\n",
       " ('called', 2548),\n",
       " ('directed', 2544),\n",
       " ('lines', 2536),\n",
       " ('behind', 2532),\n",
       " ('sort', 2528),\n",
       " ('actress', 2524),\n",
       " ('oscar', 2512),\n",
       " ('including', 2508),\n",
       " ('example', 2508),\n",
       " ('known', 2500),\n",
       " ('musical', 2500),\n",
       " ('chance', 2484),\n",
       " ('score', 2480),\n",
       " ('already', 2476),\n",
       " ('feeling', 2476),\n",
       " ('hit', 2476),\n",
       " ('voice', 2460),\n",
       " ('moment', 2448),\n",
       " ('living', 2448),\n",
       " ('low', 2440),\n",
       " ('supporting', 2440),\n",
       " ('ago', 2436),\n",
       " ('themselves', 2432),\n",
       " ('hilarious', 2420),\n",
       " ('jack', 2416),\n",
       " ('told', 2412),\n",
       " ('hand', 2404),\n",
       " ('quality', 2400),\n",
       " ('moving', 2400),\n",
       " ('dialogue', 2400),\n",
       " ('song', 2396),\n",
       " ('happy', 2396),\n",
       " ('matter', 2392),\n",
       " ('paul', 2392),\n",
       " ('light', 2376),\n",
       " ('future', 2372),\n",
       " ('entire', 2368),\n",
       " ('finds', 2364),\n",
       " ('gave', 2356),\n",
       " ('laugh', 2348),\n",
       " ('released', 2344),\n",
       " ('fight', 2324),\n",
       " ('particularly', 2320),\n",
       " ('cinematography', 2316),\n",
       " ('police', 2316),\n",
       " ('whose', 2312),\n",
       " ('type', 2312),\n",
       " ('sound', 2312),\n",
       " ('view', 2292),\n",
       " ('enjoyable', 2292),\n",
       " ('number', 2288),\n",
       " ('romantic', 2288),\n",
       " ('husband', 2288),\n",
       " ('daughter', 2288),\n",
       " ('documentary', 2284),\n",
       " ('self', 2280),\n",
       " ('superb', 2276),\n",
       " ('modern', 2276),\n",
       " ('took', 2276),\n",
       " ('robert', 2276),\n",
       " ('mean', 2264),\n",
       " ('shown', 2252),\n",
       " ('coming', 2244),\n",
       " ('important', 2240),\n",
       " ('king', 2236),\n",
       " ('leave', 2236),\n",
       " ('change', 2232),\n",
       " ('somewhat', 2220),\n",
       " ('wanted', 2220),\n",
       " ('tells', 2216),\n",
       " ('events', 2208),\n",
       " ('run', 2208),\n",
       " ('career', 2208),\n",
       " ('country', 2208),\n",
       " ('heard', 2200),\n",
       " ('season', 2200),\n",
       " ('greatest', 2196),\n",
       " ('girls', 2196),\n",
       " ('etc', 2188),\n",
       " ('care', 2184),\n",
       " ('starts', 2180),\n",
       " ('english', 2168),\n",
       " ('killer', 2164),\n",
       " ('tale', 2160),\n",
       " ('guys', 2160),\n",
       " ('totally', 2160),\n",
       " ('animation', 2160),\n",
       " ('usual', 2156),\n",
       " ('miss', 2140),\n",
       " ('opinion', 2140),\n",
       " ('easy', 2124),\n",
       " ('violence', 2124),\n",
       " ('songs', 2120),\n",
       " ('british', 2112),\n",
       " ('says', 2104),\n",
       " ('realistic', 2100),\n",
       " ('writing', 2096),\n",
       " ('writer', 2088),\n",
       " ('act', 2088),\n",
       " ('comic', 2084),\n",
       " ('thriller', 2076),\n",
       " ('television', 2068),\n",
       " ('power', 2064),\n",
       " ('ones', 2060),\n",
       " ('kid', 2056),\n",
       " ('york', 2052),\n",
       " ('novel', 2052),\n",
       " ('alone', 2048),\n",
       " ('problem', 2048),\n",
       " ('attention', 2036),\n",
       " ('involved', 2032),\n",
       " ('kill', 2028),\n",
       " ('extremely', 2028),\n",
       " ('seemed', 2024),\n",
       " ('hero', 2020),\n",
       " ('french', 2020),\n",
       " ('rock', 2016),\n",
       " ('stuff', 2004),\n",
       " ('wish', 1996),\n",
       " ('begins', 1992),\n",
       " ('taken', 1988),\n",
       " ('sad', 1988),\n",
       " ('ways', 1984),\n",
       " ('richard', 1980),\n",
       " ('knows', 1976),\n",
       " ('atmosphere', 1972),\n",
       " ('similar', 1964),\n",
       " ('surprised', 1964),\n",
       " ('taking', 1964),\n",
       " ('car', 1964),\n",
       " ('george', 1960),\n",
       " ('perfectly', 1960),\n",
       " ('across', 1956),\n",
       " ('team', 1956),\n",
       " ('eye', 1956),\n",
       " ('sequence', 1956),\n",
       " ('room', 1952),\n",
       " ('due', 1952),\n",
       " ('among', 1952),\n",
       " ('serious', 1952),\n",
       " ('powerful', 1952),\n",
       " ('strange', 1948),\n",
       " ('order', 1948),\n",
       " ('cannot', 1948),\n",
       " ('b', 1948),\n",
       " ('beauty', 1944),\n",
       " ('famous', 1940),\n",
       " ('happened', 1936),\n",
       " ('tries', 1936),\n",
       " ('herself', 1936),\n",
       " ('myself', 1936),\n",
       " ('class', 1932),\n",
       " ('four', 1928),\n",
       " ('cool', 1924),\n",
       " ('release', 1916),\n",
       " ('anyway', 1916),\n",
       " ('theme', 1916),\n",
       " ('opening', 1912),\n",
       " ('entertainment', 1908),\n",
       " ('slow', 1900),\n",
       " ('ends', 1900),\n",
       " ('unique', 1900),\n",
       " ('exactly', 1900),\n",
       " ('easily', 1896),\n",
       " ('level', 1896),\n",
       " ('o', 1896),\n",
       " ('red', 1896),\n",
       " ('interest', 1888),\n",
       " ('happen', 1884),\n",
       " ('crime', 1880),\n",
       " ('viewing', 1872),\n",
       " ('sets', 1868),\n",
       " ('memorable', 1868),\n",
       " ('stop', 1864),\n",
       " ('group', 1864),\n",
       " ('problems', 1852),\n",
       " ('dance', 1852),\n",
       " ('working', 1852),\n",
       " ('sister', 1852),\n",
       " ('message', 1852),\n",
       " ('mystery', 1844),\n",
       " ('nature', 1844),\n",
       " ('bring', 1840),\n",
       " ('believable', 1836),\n",
       " ('thinking', 1836),\n",
       " ('brought', 1836),\n",
       " ('mostly', 1832),\n",
       " ('disney', 1828),\n",
       " ('couldn', 1828),\n",
       " ('society', 1824),\n",
       " ('lady', 1820),\n",
       " ('within', 1820),\n",
       " ('blood', 1816),\n",
       " ('parents', 1812),\n",
       " ('upon', 1812),\n",
       " ('viewers', 1812),\n",
       " ('meets', 1808),\n",
       " ('form', 1808),\n",
       " ('peter', 1808),\n",
       " ('tom', 1808),\n",
       " ('usually', 1808),\n",
       " ('soundtrack', 1808),\n",
       " ('local', 1800),\n",
       " ('certain', 1792),\n",
       " ('follow', 1792),\n",
       " ('whether', 1788),\n",
       " ('possible', 1784),\n",
       " ('emotional', 1780),\n",
       " ('killed', 1776),\n",
       " ('above', 1776),\n",
       " ('de', 1776),\n",
       " ('god', 1772),\n",
       " ('middle', 1772),\n",
       " ('needs', 1768),\n",
       " ('happens', 1768),\n",
       " ('flick', 1768),\n",
       " ('masterpiece', 1764),\n",
       " ('period', 1760),\n",
       " ('major', 1760),\n",
       " ('named', 1756),\n",
       " ('haven', 1756),\n",
       " ('particular', 1752),\n",
       " ('th', 1752),\n",
       " ('earth', 1748),\n",
       " ('feature', 1748),\n",
       " ('stand', 1744),\n",
       " ('words', 1740),\n",
       " ('typical', 1740),\n",
       " ('elements', 1732),\n",
       " ('obviously', 1732),\n",
       " ('romance', 1724),\n",
       " ('jane', 1720),\n",
       " ('yourself', 1708),\n",
       " ('showing', 1708),\n",
       " ('brings', 1704),\n",
       " ('fantasy', 1704),\n",
       " ('guess', 1692),\n",
       " ('america', 1692),\n",
       " ('unfortunately', 1688),\n",
       " ('huge', 1688),\n",
       " ('indeed', 1684),\n",
       " ('running', 1684),\n",
       " ('talent', 1680),\n",
       " ('stage', 1676),\n",
       " ('started', 1672),\n",
       " ('leads', 1668),\n",
       " ('sweet', 1668),\n",
       " ('japanese', 1668),\n",
       " ('poor', 1664),\n",
       " ('deal', 1664),\n",
       " ('incredible', 1652),\n",
       " ('personal', 1652),\n",
       " ('fast', 1648),\n",
       " ('became', 1640),\n",
       " ('deep', 1640),\n",
       " ('hours', 1636),\n",
       " ('giving', 1632),\n",
       " ('nearly', 1632),\n",
       " ('dream', 1632),\n",
       " ('clearly', 1628),\n",
       " ('turned', 1628),\n",
       " ('obvious', 1624),\n",
       " ('near', 1624),\n",
       " ('cut', 1620),\n",
       " ('surprise', 1620),\n",
       " ('era', 1616),\n",
       " ('body', 1616),\n",
       " ('hour', 1612),\n",
       " ('female', 1612),\n",
       " ('five', 1612),\n",
       " ('note', 1596),\n",
       " ('learn', 1592),\n",
       " ('truth', 1592),\n",
       " ('except', 1588),\n",
       " ('feels', 1588),\n",
       " ('match', 1588),\n",
       " ('tony', 1588),\n",
       " ('filmed', 1576),\n",
       " ('clear', 1576),\n",
       " ('complete', 1576),\n",
       " ('street', 1572),\n",
       " ('eventually', 1572),\n",
       " ('keeps', 1572),\n",
       " ('older', 1572),\n",
       " ('lots', 1572),\n",
       " ('buy', 1568),\n",
       " ('william', 1564),\n",
       " ('stewart', 1564),\n",
       " ('fall', 1560),\n",
       " ('joe', 1560),\n",
       " ('meet', 1560),\n",
       " ('unlike', 1556),\n",
       " ('talking', 1556),\n",
       " ('shots', 1556),\n",
       " ('rating', 1556),\n",
       " ('difficult', 1556),\n",
       " ('dramatic', 1552),\n",
       " ('means', 1552),\n",
       " ('wonder', 1544),\n",
       " ('present', 1544),\n",
       " ('appears', 1544),\n",
       " ('subject', 1544),\n",
       " ('comments', 1540),\n",
       " ('general', 1532),\n",
       " ('sequences', 1532),\n",
       " ('lee', 1532),\n",
       " ('points', 1528),\n",
       " ('earlier', 1528),\n",
       " ('gone', 1516),\n",
       " ('check', 1516),\n",
       " ('suspense', 1512),\n",
       " ('recommended', 1512),\n",
       " ('ten', 1512),\n",
       " ('third', 1508),\n",
       " ('business', 1508),\n",
       " ('talk', 1500),\n",
       " ('leaves', 1500),\n",
       " ('beyond', 1500),\n",
       " ('portrayal', 1496),\n",
       " ('beautifully', 1492),\n",
       " ('single', 1488),\n",
       " ('bill', 1488),\n",
       " ('plenty', 1484),\n",
       " ('word', 1484),\n",
       " ('whom', 1480),\n",
       " ('falls', 1480),\n",
       " ('scary', 1476),\n",
       " ('non', 1476),\n",
       " ('figure', 1476),\n",
       " ('battle', 1476),\n",
       " ('using', 1472),\n",
       " ('return', 1472),\n",
       " ('doubt', 1468),\n",
       " ('add', 1468),\n",
       " ('hear', 1464),\n",
       " ('solid', 1464),\n",
       " ('success', 1464),\n",
       " ('jokes', 1460),\n",
       " ('oh', 1460),\n",
       " ('touching', 1460),\n",
       " ('political', 1460),\n",
       " ('hell', 1456),\n",
       " ('awesome', 1456),\n",
       " ('boys', 1456),\n",
       " ('sexual', 1448),\n",
       " ('recently', 1448),\n",
       " ('dog', 1448),\n",
       " ('please', 1444),\n",
       " ('wouldn', 1444),\n",
       " ('straight', 1444),\n",
       " ('features', 1444),\n",
       " ('forget', 1440),\n",
       " ('setting', 1440),\n",
       " ('lack', 1440),\n",
       " ('married', 1436),\n",
       " ('mark', 1436),\n",
       " ('social', 1428),\n",
       " ('interested', 1424),\n",
       " ('adventure', 1424),\n",
       " ('actual', 1420),\n",
       " ('terrific', 1420),\n",
       " ('sees', 1420),\n",
       " ('brothers', 1420),\n",
       " ('move', 1416),\n",
       " ('call', 1416),\n",
       " ('various', 1412),\n",
       " ('theater', 1412),\n",
       " ('dr', 1412),\n",
       " ('animated', 1408),\n",
       " ('western', 1404),\n",
       " ('baby', 1400),\n",
       " ('space', 1400),\n",
       " ('leading', 1392),\n",
       " ('disappointed', 1392),\n",
       " ('portrayed', 1384),\n",
       " ('aren', 1384),\n",
       " ('screenplay', 1380),\n",
       " ('smith', 1380),\n",
       " ('towards', 1376),\n",
       " ('hate', 1376),\n",
       " ('noir', 1372),\n",
       " ('outstanding', 1368),\n",
       " ('decent', 1368),\n",
       " ('kelly', 1368),\n",
       " ('directors', 1364),\n",
       " ('journey', 1364),\n",
       " ('none', 1360),\n",
       " ('looked', 1360),\n",
       " ('effective', 1360),\n",
       " ('storyline', 1356),\n",
       " ('caught', 1356),\n",
       " ('sci', 1356),\n",
       " ('fi', 1356),\n",
       " ('cold', 1356),\n",
       " ('mary', 1356),\n",
       " ('rich', 1352),\n",
       " ('charming', 1352),\n",
       " ('popular', 1348),\n",
       " ('rare', 1348),\n",
       " ('manages', 1348),\n",
       " ('harry', 1348),\n",
       " ('spirit', 1344),\n",
       " ('appreciate', 1340),\n",
       " ('open', 1340),\n",
       " ('moves', 1336),\n",
       " ('basically', 1336),\n",
       " ('acted', 1336),\n",
       " ('inside', 1332),\n",
       " ('boring', 1332),\n",
       " ('century', 1332),\n",
       " ('mention', 1332),\n",
       " ('deserves', 1332),\n",
       " ('subtle', 1332),\n",
       " ('pace', 1332),\n",
       " ('familiar', 1328),\n",
       " ('background', 1328),\n",
       " ('ben', 1324),\n",
       " ('creepy', 1320),\n",
       " ('supposed', 1320),\n",
       " ('secret', 1316),\n",
       " ('die', 1312),\n",
       " ('jim', 1312),\n",
       " ('question', 1308),\n",
       " ('effect', 1308),\n",
       " ('natural', 1308),\n",
       " ('impressive', 1304),\n",
       " ('rate', 1304),\n",
       " ('language', 1304),\n",
       " ('saying', 1300),\n",
       " ('intelligent', 1300),\n",
       " ('telling', 1296),\n",
       " ('realize', 1296),\n",
       " ('material', 1296),\n",
       " ('scott', 1296),\n",
       " ('singing', 1292),\n",
       " ('dancing', 1288),\n",
       " ('visual', 1284),\n",
       " ('adult', 1284),\n",
       " ('imagine', 1284),\n",
       " ('kept', 1280),\n",
       " ('office', 1280),\n",
       " ('uses', 1276),\n",
       " ('pure', 1272),\n",
       " ('wait', 1272),\n",
       " ('stunning', 1272),\n",
       " ('review', 1268),\n",
       " ('previous', 1268),\n",
       " ('copy', 1268),\n",
       " ('seriously', 1268),\n",
       " ('reading', 1264),\n",
       " ('create', 1264),\n",
       " ('hot', 1264),\n",
       " ('created', 1264),\n",
       " ('magic', 1264),\n",
       " ('somehow', 1264),\n",
       " ('stay', 1260),\n",
       " ('attempt', 1260),\n",
       " ('escape', 1260),\n",
       " ('crazy', 1260),\n",
       " ('air', 1260),\n",
       " ('frank', 1260),\n",
       " ('hands', 1256),\n",
       " ('filled', 1252),\n",
       " ('expected', 1248),\n",
       " ('average', 1248),\n",
       " ('surprisingly', 1248),\n",
       " ('complex', 1244),\n",
       " ('quickly', 1240),\n",
       " ('successful', 1240),\n",
       " ('studio', 1240),\n",
       " ('plus', 1236),\n",
       " ('male', 1236),\n",
       " ('co', 1228),\n",
       " ('images', 1224),\n",
       " ('casting', 1224),\n",
       " ('following', 1224),\n",
       " ('minute', 1224),\n",
       " ('exciting', 1224),\n",
       " ('members', 1220),\n",
       " ...]"
      ]
     },
     "execution_count": 49,
     "metadata": {},
     "output_type": "execute_result"
    }
   ],
   "source": [
    "# Examine the counts of the most common words in positive reviews\n",
    "positive_counts.most_common()"
   ]
  },
  {
   "cell_type": "code",
   "execution_count": 50,
   "metadata": {},
   "outputs": [
    {
     "data": {
      "text/plain": [
       "[('', 2695848),\n",
       " ('.', 1345152),\n",
       " ('the', 878556),\n",
       " ('to', 425896),\n",
       " ('a', 417284),\n",
       " ('of', 376036),\n",
       " ('and', 322540),\n",
       " ('i', 312520),\n",
       " ('is', 300332),\n",
       " ('that', 250460),\n",
       " ('it', 243308),\n",
       " ('in', 225012),\n",
       " ('br', 210548),\n",
       " ('this', 163680),\n",
       " ('s', 151184),\n",
       " ('as', 132500),\n",
       " ('high', 129264),\n",
       " ('t', 106444),\n",
       " ('was', 105164),\n",
       " ('teachers', 100168),\n",
       " ('bromwell', 100000),\n",
       " ('movie', 99860),\n",
       " ('at', 99116),\n",
       " ('for', 87708),\n",
       " ('but', 87124),\n",
       " ('with', 83512),\n",
       " ('one', 77536),\n",
       " ('film', 76872),\n",
       " ('my', 74060),\n",
       " ('all', 73144),\n",
       " ('me', 72424),\n",
       " ('their', 71112),\n",
       " ('you', 70196),\n",
       " ('on', 68768),\n",
       " ('not', 65416),\n",
       " ('who', 64876),\n",
       " ('about', 61244),\n",
       " ('have', 60576),\n",
       " ('what', 58688),\n",
       " ('are', 58492),\n",
       " ('some', 58224),\n",
       " ('be', 58164),\n",
       " ('can', 55612),\n",
       " ('he', 55424),\n",
       " ('school', 53504),\n",
       " ('they', 52044),\n",
       " ('when', 51904),\n",
       " ('student', 50872),\n",
       " ('students', 50800),\n",
       " ('time', 49836),\n",
       " ('his', 48588),\n",
       " ('which', 48120),\n",
       " ('see', 46808),\n",
       " ('so', 45852),\n",
       " ('than', 45732),\n",
       " ('much', 45312),\n",
       " ('like', 44952),\n",
       " ('there', 43100),\n",
       " ('just', 42476),\n",
       " ('other', 42220),\n",
       " ('by', 42196),\n",
       " ('or', 41088),\n",
       " ('an', 41064),\n",
       " ('think', 39572),\n",
       " ('from', 38924),\n",
       " ('if', 38072),\n",
       " ('your', 37932),\n",
       " ('here', 37108),\n",
       " ('m', 37000),\n",
       " ('many', 36636),\n",
       " ('out', 35916),\n",
       " ('through', 35240),\n",
       " ('such', 35176),\n",
       " ('life', 34716),\n",
       " ('same', 33324),\n",
       " ('down', 32952),\n",
       " ('no', 32572),\n",
       " ('isn', 32396),\n",
       " ('whole', 32072),\n",
       " ('years', 32036),\n",
       " ('her', 31788),\n",
       " ('right', 31500),\n",
       " ('far', 31476),\n",
       " ('comedy', 31016),\n",
       " ('saw', 30900),\n",
       " ('even', 30748),\n",
       " ('believe', 30736),\n",
       " ('has', 30416),\n",
       " ('good', 29692),\n",
       " ('bad', 29604),\n",
       " ('line', 29072),\n",
       " ('would', 28144),\n",
       " ('up', 27880),\n",
       " ('lead', 27720),\n",
       " ('classic', 27548),\n",
       " ('episode', 27540),\n",
       " ('expect', 27376),\n",
       " ('only', 27124),\n",
       " ('tried', 27060),\n",
       " ('more', 26920),\n",
       " ('knew', 26744),\n",
       " ('age', 26688),\n",
       " ('pathetic', 26628),\n",
       " ('reality', 26528),\n",
       " ('cartoon', 26184),\n",
       " ('situation', 26132),\n",
       " ('immediately', 25872),\n",
       " ('she', 25776),\n",
       " ('adults', 25636),\n",
       " ('satire', 25500),\n",
       " ('ran', 25464),\n",
       " ('pity', 25456),\n",
       " ('survive', 25452),\n",
       " ('burn', 25340),\n",
       " ('welcome', 25332),\n",
       " ('closer', 25320),\n",
       " ('inspector', 25320),\n",
       " ('remind', 25292),\n",
       " ('repeatedly', 25268),\n",
       " ('fetched', 25216),\n",
       " ('teaching', 25168),\n",
       " ('schools', 25144),\n",
       " ('sack', 25124),\n",
       " ('profession', 25112),\n",
       " ('programs', 25108),\n",
       " ('insightful', 25100),\n",
       " ('really', 25048),\n",
       " ('financially', 25036),\n",
       " ('recalled', 25032),\n",
       " ('scramble', 25016),\n",
       " ('pomp', 25016),\n",
       " ('pettiness', 25000),\n",
       " ('had', 24568),\n",
       " ('were', 24004),\n",
       " ('very', 23056),\n",
       " ('don', 21344),\n",
       " ('we', 21312),\n",
       " ('do', 20944),\n",
       " ('story', 20832),\n",
       " ('been', 20400),\n",
       " ('get', 20148),\n",
       " ('because', 19864),\n",
       " ('people', 19224),\n",
       " ('then', 19044),\n",
       " ('make', 18888),\n",
       " ('how', 18752),\n",
       " ('could', 18744),\n",
       " ('any', 18632),\n",
       " ('into', 18268),\n",
       " ('made', 18164),\n",
       " ('first', 17224),\n",
       " ('well', 17016),\n",
       " ('too', 16696),\n",
       " ('them', 16660),\n",
       " ('plot', 16616),\n",
       " ('movies', 16320),\n",
       " ('acting', 16224),\n",
       " ('will', 15972),\n",
       " ('way', 15956),\n",
       " ('most', 15676),\n",
       " ('him', 15432),\n",
       " ('after', 15352),\n",
       " ('its', 14620),\n",
       " ('also', 14432),\n",
       " ('characters', 14400),\n",
       " ('off', 14268),\n",
       " ('watch', 14200),\n",
       " ('character', 14024),\n",
       " ('did', 14024),\n",
       " ('why', 13852),\n",
       " ('being', 13572),\n",
       " ('better', 13432),\n",
       " ('know', 13336),\n",
       " ('over', 13264),\n",
       " ('seen', 13060),\n",
       " ('ever', 13052),\n",
       " ('never', 13036),\n",
       " ('where', 12876),\n",
       " ('two', 12692),\n",
       " ('little', 12384),\n",
       " ('films', 12308),\n",
       " ('nothing', 11960),\n",
       " ('say', 11928),\n",
       " ('end', 11816),\n",
       " ('something', 11768),\n",
       " ('should', 11680),\n",
       " ('does', 11484),\n",
       " ('thing', 11464),\n",
       " ('show', 11448),\n",
       " ('ve', 11316),\n",
       " ('scene', 11264),\n",
       " ('scenes', 11140),\n",
       " ('these', 10896),\n",
       " ('go', 10868),\n",
       " ('didn', 10584),\n",
       " ('great', 10560),\n",
       " ('watching', 10560),\n",
       " ('re', 10480),\n",
       " ('doesn', 10404),\n",
       " ('man', 10064),\n",
       " ('worst', 9920),\n",
       " ('actually', 9796),\n",
       " ('actors', 9748),\n",
       " ('back', 9696),\n",
       " ('while', 9672),\n",
       " ('director', 9620),\n",
       " ('funny', 9344),\n",
       " ('going', 9276),\n",
       " ('still', 9132),\n",
       " ('another', 9016),\n",
       " ('look', 8988),\n",
       " ('now', 8948),\n",
       " ('old', 8860),\n",
       " ('those', 8848),\n",
       " ('real', 8680),\n",
       " ('few', 8632),\n",
       " ('love', 8608),\n",
       " ('horror', 8600),\n",
       " ('before', 8588),\n",
       " ('want', 8564),\n",
       " ('minutes', 8504),\n",
       " ('pretty', 8460),\n",
       " ('best', 8376),\n",
       " ('though', 8364),\n",
       " ('script', 8296),\n",
       " ('work', 8108),\n",
       " ('every', 8100),\n",
       " ('seems', 8092),\n",
       " ('least', 8044),\n",
       " ('enough', 7988),\n",
       " ('original', 7932),\n",
       " ('guy', 7856),\n",
       " ('got', 7808),\n",
       " ('around', 7772),\n",
       " ('part', 7768),\n",
       " ('lot', 7568),\n",
       " ('anything', 7496),\n",
       " ('find', 7440),\n",
       " ('new', 7416),\n",
       " ('again', 7396),\n",
       " ('point', 7380),\n",
       " ('things', 7356),\n",
       " ('fact', 7356),\n",
       " ('give', 7292),\n",
       " ('makes', 7256),\n",
       " ('take', 7200),\n",
       " ('thought', 7192),\n",
       " ('d', 7080),\n",
       " ('long', 7044),\n",
       " ('however', 6960),\n",
       " ('gets', 6856),\n",
       " ('making', 6780),\n",
       " ('cast', 6776),\n",
       " ('big', 6648),\n",
       " ('might', 6632),\n",
       " ('interesting', 6592),\n",
       " ('money', 6552),\n",
       " ('us', 6512),\n",
       " ('quite', 6384),\n",
       " ('without', 6380),\n",
       " ('come', 6380),\n",
       " ('almost', 6296),\n",
       " ('ll', 6268),\n",
       " ('action', 6264),\n",
       " ('awful', 6228),\n",
       " ('kind', 6156),\n",
       " ('reason', 6136),\n",
       " ('am', 6120),\n",
       " ('looks', 6112),\n",
       " ('must', 6088),\n",
       " ('done', 6040),\n",
       " ('someone', 5960),\n",
       " ('trying', 5944),\n",
       " ('wasn', 5936),\n",
       " ('poor', 5924),\n",
       " ('boring', 5912),\n",
       " ('instead', 5912),\n",
       " ('away', 5876),\n",
       " ('girl', 5852),\n",
       " ('probably', 5776),\n",
       " ('sure', 5732),\n",
       " ('looking', 5720),\n",
       " ('stupid', 5712),\n",
       " ('anyone', 5672),\n",
       " ('times', 5624),\n",
       " ('maybe', 5616),\n",
       " ('world', 5616),\n",
       " ('rather', 5576),\n",
       " ('terrible', 5564),\n",
       " ('may', 5560),\n",
       " ('last', 5560),\n",
       " ('since', 5552),\n",
       " ('let', 5540),\n",
       " ('tv', 5528),\n",
       " ('hard', 5496),\n",
       " ('between', 5496),\n",
       " ('waste', 5432),\n",
       " ('woman', 5424),\n",
       " ('feel', 5416),\n",
       " ('effects', 5392),\n",
       " ('half', 5364),\n",
       " ('own', 5332),\n",
       " ('young', 5268),\n",
       " ('music', 5264),\n",
       " ('idea', 5248),\n",
       " ('sense', 5224),\n",
       " ('bit', 5192),\n",
       " ('having', 5120),\n",
       " ('book', 5112),\n",
       " ('found', 5068),\n",
       " ('put', 5052),\n",
       " ('series', 5052),\n",
       " ('goes', 5024),\n",
       " ('worse', 4996),\n",
       " ('said', 4920),\n",
       " ('comes', 4896),\n",
       " ('role', 4888),\n",
       " ('main', 4880),\n",
       " ('else', 4796),\n",
       " ('everything', 4788),\n",
       " ('yet', 4784),\n",
       " ('low', 4756),\n",
       " ('screen', 4752),\n",
       " ('supposed', 4744),\n",
       " ('actor', 4740),\n",
       " ('either', 4732),\n",
       " ('budget', 4716),\n",
       " ('ending', 4716),\n",
       " ('audience', 4712),\n",
       " ('set', 4708),\n",
       " ('family', 4680),\n",
       " ('left', 4676),\n",
       " ('completely', 4672),\n",
       " ('both', 4632),\n",
       " ('wrong', 4620),\n",
       " ('always', 4604),\n",
       " ('course', 4592),\n",
       " ('place', 4592),\n",
       " ('seem', 4588),\n",
       " ('watched', 4568),\n",
       " ('day', 4528),\n",
       " ('simply', 4520),\n",
       " ('shot', 4504),\n",
       " ('mean', 4468),\n",
       " ('special', 4408),\n",
       " ('dead', 4404),\n",
       " ('three', 4376),\n",
       " ('house', 4340),\n",
       " ('oh', 4336),\n",
       " ('night', 4332),\n",
       " ('read', 4328),\n",
       " ('less', 4268),\n",
       " ('year', 4256),\n",
       " ('camera', 4244),\n",
       " ('worth', 4228),\n",
       " ('our', 4224),\n",
       " ('try', 4204),\n",
       " ('horrible', 4184),\n",
       " ('sex', 4184),\n",
       " ('video', 4172),\n",
       " ('black', 4156),\n",
       " ('although', 4144),\n",
       " ('couldn', 4144),\n",
       " ('once', 4132),\n",
       " ('rest', 4088),\n",
       " ('dvd', 4084),\n",
       " ('played', 4068),\n",
       " ('fun', 4028),\n",
       " ('during', 4024),\n",
       " ('production', 4012),\n",
       " ('everyone', 4008),\n",
       " ('play', 3972),\n",
       " ('mind', 3960),\n",
       " ('version', 3956),\n",
       " ('kids', 3956),\n",
       " ('seeing', 3952),\n",
       " ('american', 3920),\n",
       " ('given', 3912),\n",
       " ('used', 3876),\n",
       " ('performance', 3872),\n",
       " ('especially', 3852),\n",
       " ('together', 3852),\n",
       " ('tell', 3836),\n",
       " ('women', 3832),\n",
       " ('start', 3824),\n",
       " ('need', 3820),\n",
       " ('second', 3812),\n",
       " ('takes', 3800),\n",
       " ('each', 3800),\n",
       " ('wife', 3776),\n",
       " ('dialogue', 3768),\n",
       " ('use', 3760),\n",
       " ('problem', 3752),\n",
       " ('star', 3736),\n",
       " ('unfortunately', 3724),\n",
       " ('himself', 3716),\n",
       " ('doing', 3704),\n",
       " ('death', 3688),\n",
       " ('name', 3684),\n",
       " ('lines', 3676),\n",
       " ('killer', 3656),\n",
       " ('getting', 3652),\n",
       " ('help', 3620),\n",
       " ('couple', 3608),\n",
       " ('fan', 3608),\n",
       " ('head', 3592),\n",
       " ('crap', 3580),\n",
       " ('guess', 3552),\n",
       " ('piece', 3536),\n",
       " ('nice', 3520),\n",
       " ('different', 3512),\n",
       " ('later', 3500),\n",
       " ('entire', 3476),\n",
       " ('shows', 3440),\n",
       " ('next', 3432),\n",
       " ('john', 3432),\n",
       " ('short', 3428),\n",
       " ('seemed', 3428),\n",
       " ('hollywood', 3400),\n",
       " ('home', 3392),\n",
       " ('true', 3384),\n",
       " ('person', 3384),\n",
       " ('absolutely', 3368),\n",
       " ('sort', 3360),\n",
       " ('care', 3356),\n",
       " ('understand', 3344),\n",
       " ('plays', 3340),\n",
       " ('felt', 3336),\n",
       " ('written', 3316),\n",
       " ('title', 3312),\n",
       " ('men', 3288),\n",
       " ('until', 3284),\n",
       " ('flick', 3264),\n",
       " ('decent', 3260),\n",
       " ('face', 3256),\n",
       " ('friends', 3240),\n",
       " ('stars', 3228),\n",
       " ('job', 3228),\n",
       " ('case', 3228),\n",
       " ('itself', 3216),\n",
       " ('yes', 3204),\n",
       " ('perhaps', 3200),\n",
       " ('went', 3188),\n",
       " ('wanted', 3188),\n",
       " ('called', 3184),\n",
       " ('annoying', 3180),\n",
       " ('ridiculous', 3160),\n",
       " ('tries', 3160),\n",
       " ('laugh', 3152),\n",
       " ('evil', 3148),\n",
       " ('along', 3144),\n",
       " ('top', 3140),\n",
       " ('hour', 3136),\n",
       " ('full', 3132),\n",
       " ('came', 3120),\n",
       " ('writing', 3120),\n",
       " ('keep', 3080),\n",
       " ('totally', 3068),\n",
       " ('playing', 3064),\n",
       " ('god', 3060),\n",
       " ('won', 3056),\n",
       " ('guys', 3052),\n",
       " ('already', 3048),\n",
       " ('gore', 3028),\n",
       " ('direction', 2992),\n",
       " ('save', 2984),\n",
       " ('lost', 2980),\n",
       " ('example', 2976),\n",
       " ('sound', 2968),\n",
       " ('war', 2964),\n",
       " ('attempt', 2940),\n",
       " ('car', 2932),\n",
       " ('except', 2932),\n",
       " ('moments', 2928),\n",
       " ('blood', 2928),\n",
       " ('obviously', 2920),\n",
       " ('act', 2916),\n",
       " ('remember', 2912),\n",
       " ('kill', 2908),\n",
       " ('truly', 2904),\n",
       " ('white', 2904),\n",
       " ('father', 2904),\n",
       " ('b', 2900),\n",
       " ('thinking', 2880),\n",
       " ('ok', 2864),\n",
       " ('finally', 2864),\n",
       " ('turn', 2844),\n",
       " ('quality', 2804),\n",
       " ('lack', 2792),\n",
       " ('style', 2776),\n",
       " ('wouldn', 2772),\n",
       " ('cheap', 2764),\n",
       " ('none', 2760),\n",
       " ('kid', 2744),\n",
       " ('please', 2744),\n",
       " ('boy', 2740),\n",
       " ('seriously', 2736),\n",
       " ('dull', 2708),\n",
       " ('children', 2704),\n",
       " ('starts', 2700),\n",
       " ('stuff', 2692),\n",
       " ('hope', 2688),\n",
       " ('looked', 2680),\n",
       " ('recommend', 2676),\n",
       " ('under', 2672),\n",
       " ('run', 2668),\n",
       " ('killed', 2668),\n",
       " ('enjoy', 2664),\n",
       " ('others', 2664),\n",
       " ('etc', 2652),\n",
       " ('myself', 2652),\n",
       " ('beginning', 2648),\n",
       " ('girls', 2648),\n",
       " ('against', 2648),\n",
       " ('obvious', 2640),\n",
       " ('small', 2640),\n",
       " ('hell', 2636),\n",
       " ('slow', 2628),\n",
       " ('hand', 2624),\n",
       " ('wonder', 2608),\n",
       " ('lame', 2608),\n",
       " ('becomes', 2604),\n",
       " ('picture', 2604),\n",
       " ('based', 2600),\n",
       " ('early', 2592),\n",
       " ('behind', 2584),\n",
       " ('poorly', 2576),\n",
       " ('avoid', 2568),\n",
       " ('apparently', 2560),\n",
       " ('complete', 2560),\n",
       " ('happens', 2556),\n",
       " ('anyway', 2552),\n",
       " ('several', 2544),\n",
       " ('despite', 2540),\n",
       " ('certainly', 2540),\n",
       " ('often', 2524),\n",
       " ('cut', 2520),\n",
       " ('writer', 2520),\n",
       " ('mother', 2512),\n",
       " ('predictable', 2512),\n",
       " ('gave', 2512),\n",
       " ('become', 2508),\n",
       " ('close', 2500),\n",
       " ('fans', 2496),\n",
       " ('saying', 2484),\n",
       " ('scary', 2476),\n",
       " ('stop', 2472),\n",
       " ('live', 2472),\n",
       " ('wants', 2468),\n",
       " ('self', 2460),\n",
       " ('mr', 2448),\n",
       " ('jokes', 2444),\n",
       " ('friend', 2444),\n",
       " ('cannot', 2440),\n",
       " ('overall', 2436),\n",
       " ('cinema', 2416),\n",
       " ('child', 2412),\n",
       " ('silly', 2404),\n",
       " ('beautiful', 2384),\n",
       " ('human', 2380),\n",
       " ('liked', 2372),\n",
       " ('happened', 2368),\n",
       " ('bunch', 2360),\n",
       " ('entertaining', 2360),\n",
       " ('actress', 2352),\n",
       " ('final', 2352),\n",
       " ('says', 2336),\n",
       " ('performances', 2336),\n",
       " ('turns', 2308),\n",
       " ('humor', 2308),\n",
       " ('themselves', 2304),\n",
       " ('eyes', 2304),\n",
       " ('hours', 2296),\n",
       " ('happen', 2292),\n",
       " ('basically', 2288),\n",
       " ('days', 2288),\n",
       " ('running', 2284),\n",
       " ('involved', 2276),\n",
       " ('disappointed', 2276),\n",
       " ('call', 2276),\n",
       " ('directed', 2272),\n",
       " ('group', 2272),\n",
       " ('fight', 2268),\n",
       " ('daughter', 2264),\n",
       " ('talking', 2264),\n",
       " ('body', 2264),\n",
       " ('badly', 2260),\n",
       " ('sorry', 2260),\n",
       " ('throughout', 2252),\n",
       " ('viewer', 2252),\n",
       " ('yourself', 2248),\n",
       " ('extremely', 2248),\n",
       " ('interest', 2244),\n",
       " ('heard', 2244),\n",
       " ('violence', 2244),\n",
       " ('shots', 2236),\n",
       " ('side', 2228),\n",
       " ('word', 2224),\n",
       " ('art', 2220),\n",
       " ('possible', 2216),\n",
       " ('dark', 2204),\n",
       " ('game', 2204),\n",
       " ('hero', 2200),\n",
       " ('alone', 2196),\n",
       " ('son', 2188),\n",
       " ('type', 2188),\n",
       " ('leave', 2188),\n",
       " ('gives', 2184),\n",
       " ('parts', 2184),\n",
       " ('single', 2184),\n",
       " ('started', 2180),\n",
       " ('female', 2172),\n",
       " ('rating', 2164),\n",
       " ('mess', 2164),\n",
       " ('voice', 2164),\n",
       " ('aren', 2160),\n",
       " ('town', 2160),\n",
       " ('drama', 2152),\n",
       " ('definitely', 2148),\n",
       " ('unless', 2144),\n",
       " ('review', 2136),\n",
       " ('effort', 2132),\n",
       " ('weak', 2132),\n",
       " ('able', 2132),\n",
       " ('took', 2124),\n",
       " ('non', 2120),\n",
       " ('five', 2120),\n",
       " ('matter', 2116),\n",
       " ('usually', 2116),\n",
       " ('michael', 2112),\n",
       " ('feeling', 2104),\n",
       " ('huge', 2092),\n",
       " ('sequel', 2088),\n",
       " ('soon', 2084),\n",
       " ('exactly', 2080),\n",
       " ('past', 2076),\n",
       " ('turned', 2072),\n",
       " ('police', 2072),\n",
       " ('middle', 2052),\n",
       " ('talent', 2052),\n",
       " ('genre', 2048),\n",
       " ('zombie', 2040),\n",
       " ('ends', 2036),\n",
       " ('history', 2036),\n",
       " ('straight', 2012),\n",
       " ('opening', 2004),\n",
       " ('serious', 2004),\n",
       " ('coming', 2004),\n",
       " ('moment', 2000),\n",
       " ('lives', 1996),\n",
       " ('sad', 1996),\n",
       " ('dialog', 1992),\n",
       " ('particularly', 1992),\n",
       " ('editing', 1972),\n",
       " ('clearly', 1968),\n",
       " ('beyond', 1964),\n",
       " ('earth', 1964),\n",
       " ('taken', 1960),\n",
       " ('cool', 1960),\n",
       " ('level', 1956),\n",
       " ('dumb', 1956),\n",
       " ('okay', 1952),\n",
       " ('major', 1948),\n",
       " ('fast', 1940),\n",
       " ('premise', 1940),\n",
       " ('joke', 1936),\n",
       " ('stories', 1936),\n",
       " ('wasted', 1932),\n",
       " ('minute', 1932),\n",
       " ('across', 1928),\n",
       " ('mostly', 1928),\n",
       " ('rent', 1928),\n",
       " ('late', 1924),\n",
       " ('falls', 1924),\n",
       " ('fails', 1924),\n",
       " ('mention', 1912),\n",
       " ('theater', 1900),\n",
       " ('stay', 1888),\n",
       " ('sometimes', 1888),\n",
       " ('hit', 1872),\n",
       " ('talk', 1868),\n",
       " ('fine', 1868),\n",
       " ('die', 1864),\n",
       " ('storyline', 1860),\n",
       " ('pointless', 1860),\n",
       " ('taking', 1856),\n",
       " ('order', 1848),\n",
       " ('brother', 1844),\n",
       " ('whatever', 1840),\n",
       " ('told', 1840),\n",
       " ('wish', 1832),\n",
       " ('room', 1824),\n",
       " ('career', 1820),\n",
       " ('appears', 1820),\n",
       " ('write', 1820),\n",
       " ('known', 1816),\n",
       " ('husband', 1816),\n",
       " ('living', 1804),\n",
       " ('sit', 1800),\n",
       " ('ten', 1800),\n",
       " ('words', 1796),\n",
       " ('monster', 1792),\n",
       " ('chance', 1792),\n",
       " ('hate', 1776),\n",
       " ('novel', 1776),\n",
       " ('add', 1772),\n",
       " ('english', 1772),\n",
       " ('somehow', 1764),\n",
       " ('strange', 1760),\n",
       " ('imdb', 1752),\n",
       " ('actual', 1752),\n",
       " ('total', 1748),\n",
       " ('material', 1748),\n",
       " ('killing', 1748),\n",
       " ('ones', 1748),\n",
       " ('king', 1736),\n",
       " ('number', 1736),\n",
       " ('using', 1732),\n",
       " ('lee', 1724),\n",
       " ('power', 1724),\n",
       " ('shown', 1724),\n",
       " ('works', 1724),\n",
       " ('giving', 1724),\n",
       " ('points', 1720),\n",
       " ('possibly', 1720),\n",
       " ('kept', 1720),\n",
       " ('four', 1716),\n",
       " ('local', 1708),\n",
       " ('usual', 1704),\n",
       " ('including', 1700),\n",
       " ('problems', 1696),\n",
       " ('ago', 1696),\n",
       " ('opinion', 1696),\n",
       " ('nudity', 1692),\n",
       " ('due', 1684),\n",
       " ('roles', 1680),\n",
       " ('writers', 1676),\n",
       " ('decided', 1676),\n",
       " ('near', 1672),\n",
       " ('flat', 1672),\n",
       " ('easily', 1672),\n",
       " ('murder', 1668),\n",
       " ('experience', 1668),\n",
       " ('reviews', 1664),\n",
       " ('imagine', 1660),\n",
       " ('feels', 1652),\n",
       " ('plain', 1644),\n",
       " ('somewhat', 1644),\n",
       " ('class', 1640),\n",
       " ('score', 1640),\n",
       " ('song', 1636),\n",
       " ('bring', 1636),\n",
       " ('whether', 1636),\n",
       " ('otherwise', 1632),\n",
       " ('whose', 1632),\n",
       " ('average', 1632),\n",
       " ('nearly', 1628),\n",
       " ('knows', 1628),\n",
       " ('zombies', 1628),\n",
       " ('cinematography', 1624),\n",
       " ('cheesy', 1624),\n",
       " ('upon', 1624),\n",
       " ('city', 1620),\n",
       " ('space', 1620),\n",
       " ('credits', 1616),\n",
       " ('james', 1612),\n",
       " ('lots', 1612),\n",
       " ('change', 1612),\n",
       " ('entertainment', 1608),\n",
       " ('nor', 1608),\n",
       " ('wait', 1604),\n",
       " ('released', 1600),\n",
       " ('needs', 1596),\n",
       " ('shame', 1592),\n",
       " ('attention', 1584),\n",
       " ('comments', 1576),\n",
       " ('bored', 1572),\n",
       " ('free', 1572),\n",
       " ('lady', 1572),\n",
       " ('expected', 1568),\n",
       " ('needed', 1568),\n",
       " ('clear', 1568),\n",
       " ('view', 1564),\n",
       " ('development', 1560),\n",
       " ('check', 1560),\n",
       " ('doubt', 1560),\n",
       " ('figure', 1556),\n",
       " ('mystery', 1556),\n",
       " ('excellent', 1552),\n",
       " ('garbage', 1552),\n",
       " ('sequence', 1544),\n",
       " ('television', 1544),\n",
       " ('o', 1540),\n",
       " ('sets', 1540),\n",
       " ('laughable', 1536),\n",
       " ('potential', 1536),\n",
       " ('robert', 1528),\n",
       " ('light', 1528),\n",
       " ('country', 1528),\n",
       " ('documentary', 1528),\n",
       " ('general', 1524),\n",
       " ('ask', 1524),\n",
       " ('comic', 1520),\n",
       " ('fall', 1520),\n",
       " ('begin', 1520),\n",
       " ('footage', 1516),\n",
       " ('stand', 1516),\n",
       " ('forced', 1516),\n",
       " ('trash', 1516),\n",
       " ('remake', 1516),\n",
       " ('thriller', 1512),\n",
       " ('songs', 1512),\n",
       " ('gay', 1508),\n",
       " ('within', 1508),\n",
       " ('hardly', 1504),\n",
       " ('above', 1500),\n",
       " ('gone', 1500),\n",
       " ('george', 1496),\n",
       " ('means', 1492),\n",
       " ('sounds', 1492),\n",
       " ('directing', 1488),\n",
       " ('move', 1488),\n",
       " ('david', 1488),\n",
       " ('buy', 1488),\n",
       " ('rock', 1484),\n",
       " ('forward', 1484),\n",
       " ('important', 1484),\n",
       " ('hot', 1480),\n",
       " ('haven', 1480),\n",
       " ('filmed', 1480),\n",
       " ('british', 1480),\n",
       " ('heart', 1476),\n",
       " ('reading', 1476),\n",
       " ('fake', 1476),\n",
       " ('incredibly', 1472),\n",
       " ('weird', 1472),\n",
       " ('hear', 1472),\n",
       " ('enjoyed', 1468),\n",
       " ('hilarious', 1468),\n",
       " ('cop', 1468),\n",
       " ('musical', 1468),\n",
       " ('message', 1464),\n",
       " ('happy', 1464),\n",
       " ('pay', 1464),\n",
       " ('laughs', 1460),\n",
       " ('box', 1460),\n",
       " ('suspense', 1452),\n",
       " ('sadly', 1452),\n",
       " ('eye', 1448),\n",
       " ('third', 1444),\n",
       " ('similar', 1444),\n",
       " ('named', 1444),\n",
       " ('modern', 1440),\n",
       " ('failed', 1436),\n",
       " ('events', 1436),\n",
       " ('forget', 1432),\n",
       " ('question', 1432),\n",
       " ('male', 1428),\n",
       " ('finds', 1428),\n",
       " ('perfect', 1424),\n",
       " ('spent', 1420),\n",
       " ('sister', 1420),\n",
       " ('feature', 1416),\n",
       " ('result', 1416),\n",
       " ('comment', 1412),\n",
       " ('girlfriend', 1412),\n",
       " ('sexual', 1408),\n",
       " ('attempts', 1404),\n",
       " ('neither', 1404),\n",
       " ('richard', 1404),\n",
       " ('screenplay', 1400),\n",
       " ('elements', 1400),\n",
       " ('spoilers', 1396),\n",
       " ('brain', 1392),\n",
       " ('filmmakers', 1392),\n",
       " ('showing', 1392),\n",
       " ('miss', 1388),\n",
       " ('dr', 1388),\n",
       " ('christmas', 1388),\n",
       " ('cover', 1380),\n",
       " ('red', 1376),\n",
       " ('sequences', 1376),\n",
       " ('typical', 1372),\n",
       " ('excuse', 1372),\n",
       " ('crazy', 1368),\n",
       " ('ideas', 1368),\n",
       " ('baby', 1368),\n",
       " ('loved', 1364),\n",
       " ('meant', 1364),\n",
       " ('worked', 1360),\n",
       " ('fire', 1360),\n",
       " ('unbelievable', 1356),\n",
       " ('follow', 1356),\n",
       " ('theme', 1348),\n",
       " ('barely', 1344),\n",
       " ('producers', 1344),\n",
       " ('twist', 1344),\n",
       " ('plus', 1344),\n",
       " ('appear', 1344),\n",
       " ('directors', 1340),\n",
       " ('team', 1340),\n",
       " ('viewers', 1332),\n",
       " ('leads', 1328),\n",
       " ('tom', 1328),\n",
       " ('slasher', 1328),\n",
       " ('wrote', 1324),\n",
       " ('villain', 1324),\n",
       " ('gun', 1324),\n",
       " ('working', 1324),\n",
       " ('island', 1320),\n",
       " ('strong', 1320),\n",
       " ('open', 1320),\n",
       " ('realize', 1320),\n",
       " ('positive', 1316),\n",
       " ('disappointing', 1316),\n",
       " ('yeah', 1316),\n",
       " ('quickly', 1316),\n",
       " ('weren', 1312),\n",
       " ('release', 1312),\n",
       " ('simple', 1312),\n",
       " ('honestly', 1312),\n",
       " ('eventually', 1308),\n",
       " ('period', 1308),\n",
       " ('tells', 1308),\n",
       " ('kills', 1308),\n",
       " ('doctor', 1308),\n",
       " ('nowhere', 1304),\n",
       " ('list', 1304),\n",
       " ('acted', 1304),\n",
       " ('herself', 1304),\n",
       " ('dog', 1304),\n",
       " ('walk', 1300),\n",
       " ('air', 1296),\n",
       " ('apart', 1296),\n",
       " ('makers', 1292),\n",
       " ('subject', 1292),\n",
       " ('learn', 1288),\n",
       " ('fi', 1288),\n",
       " ('sci', 1276),\n",
       " ('bother', 1276),\n",
       " ('admit', 1276),\n",
       " ('jack', 1272),\n",
       " ('disappointment', 1272),\n",
       " ('hands', 1272),\n",
       " ('note', 1272),\n",
       " ('certain', 1268),\n",
       " ('e', 1268),\n",
       " ('value', 1268),\n",
       " ('casting', 1268),\n",
       " ('grade', 1264),\n",
       " ('peter', 1264),\n",
       " ('suddenly', 1260),\n",
       " ('missing', 1260),\n",
       " ('form', 1252),\n",
       " ('stick', 1252),\n",
       " ('previous', 1252),\n",
       " ('break', 1252),\n",
       " ('soundtrack', 1248),\n",
       " ('surprised', 1244),\n",
       " ('front', 1244),\n",
       " ('expecting', 1244),\n",
       " ('parents', 1240),\n",
       " ('surprise', 1240),\n",
       " ('relationship', 1240),\n",
       " ('shoot', 1236),\n",
       " ('today', 1236),\n",
       " ('painful', 1232),\n",
       " ('ways', 1232),\n",
       " ('leaves', 1232),\n",
       " ('ended', 1232),\n",
       " ('creepy', 1232),\n",
       " ('concept', 1232),\n",
       " ('somewhere', 1232),\n",
       " ('vampire', 1232),\n",
       " ('spend', 1228),\n",
       " ('th', 1228),\n",
       " ('future', 1224),\n",
       " ('difficult', 1224),\n",
       " ('effect', 1224),\n",
       " ('fighting', 1224),\n",
       " ('street', 1224),\n",
       " ('c', 1220),\n",
       " ('america', 1220),\n",
       " ('accent', 1216),\n",
       " ('truth', 1208),\n",
       " ('project', 1208),\n",
       " ('joe', 1204),\n",
       " ('f', 1204),\n",
       " ('deal', 1204),\n",
       " ('indeed', 1204),\n",
       " ('biggest', 1200),\n",
       " ('rate', 1200),\n",
       " ('paul', 1196),\n",
       " ('japanese', 1196),\n",
       " ('utterly', 1192),\n",
       " ('begins', 1192),\n",
       " ('redeeming', 1192),\n",
       " ('college', 1192),\n",
       " ('york', 1188),\n",
       " ('fairly', 1188),\n",
       " ...]"
      ]
     },
     "execution_count": 50,
     "metadata": {},
     "output_type": "execute_result"
    }
   ],
   "source": [
    "# Examine the counts of the most common words in negative reviews\n",
    "negative_counts.most_common()"
   ]
  },
  {
   "cell_type": "markdown",
   "metadata": {},
   "source": [
    "As you can see, common words like \"the\" appear very often in both positive and negative reviews. Instead of finding the most common words in positive or negative reviews, what you really want are the words found in positive reviews more often than in negative reviews, and vice versa. To accomplish this, you'll need to calculate the **ratios** of word usage between positive and negative reviews.\n",
    "\n",
    "**TODO:** Check all the words you've seen and calculate the ratio of postive to negative uses and store that ratio in `pos_neg_ratios`. \n",
    ">Hint: the positive-to-negative ratio for a given word can be calculated with `positive_counts[word] / float(negative_counts[word]+1)`. Notice the `+1` in the denominator – that ensures we don't divide by zero for words that are only seen in positive reviews."
   ]
  },
  {
   "cell_type": "code",
   "execution_count": 51,
   "metadata": {},
   "outputs": [],
   "source": [
    "# Create Counter object to store positive/negative ratios\n",
    "pos_neg_ratios = Counter()\n",
    "\n",
    "# TODO: Calculate the ratios of positive and negative uses of the most common words\n",
    "#       Consider words to be \"common\" if they've been used at least 100 times\n",
    "for x in range(1,len(reviews)):\n",
    "    words = reviews[x].split(' ')\n",
    "    for word in words:\n",
    "        pos_neg_ratios[word] = positive_counts[word] / float(negative_counts[word]+1)"
   ]
  },
  {
   "cell_type": "markdown",
   "metadata": {},
   "source": [
    "Examine the ratios you've calculated for a few words:"
   ]
  },
  {
   "cell_type": "code",
   "execution_count": 52,
   "metadata": {},
   "outputs": [
    {
     "name": "stdout",
     "output_type": "stream",
     "text": [
      "Pos-to-neg ratio for 'the' = 1.045170660526295\n",
      "Pos-to-neg ratio for 'amazing' = 4.0343183984747375\n",
      "Pos-to-neg ratio for 'terrible' = 0.1775381850853549\n"
     ]
    }
   ],
   "source": [
    "print(\"Pos-to-neg ratio for 'the' = {}\".format(pos_neg_ratios[\"the\"]))\n",
    "print(\"Pos-to-neg ratio for 'amazing' = {}\".format(pos_neg_ratios[\"amazing\"]))\n",
    "print(\"Pos-to-neg ratio for 'terrible' = {}\".format(pos_neg_ratios[\"terrible\"]))"
   ]
  },
  {
   "cell_type": "markdown",
   "metadata": {},
   "source": [
    "Looking closely at the values you just calculated, we see the following:\n",
    "\n",
    "* Words that you would expect to see more often in positive reviews – like \"amazing\" – have a ratio greater than 1. The more skewed a word is toward postive, the farther from 1 its positive-to-negative ratio  will be.\n",
    "* Words that you would expect to see more often in negative reviews – like \"terrible\" – have positive values that are less than 1. The more skewed a word is toward negative, the closer to zero its positive-to-negative ratio will be.\n",
    "* Neutral words, which don't really convey any sentiment because you would expect to see them in all sorts of reviews – like \"the\" – have values very close to 1. A perfectly neutral word – one that was used in exactly the same number of positive reviews as negative reviews – would be almost exactly 1. The `+1` we suggested you add to the denominator slightly biases words toward negative, but it won't matter because it will be a tiny bias and later we'll be ignoring words that are too close to neutral anyway.\n",
    "\n",
    "Ok, the ratios tell us which words are used more often in postive or negative reviews, but the specific values we've calculated are a bit difficult to work with. A very positive word like \"amazing\" has a value above 4, whereas a very negative word like \"terrible\" has a value around 0.18. Those values aren't easy to compare for a couple of reasons:\n",
    "\n",
    "* Right now, 1 is considered neutral, but the absolute value of the postive-to-negative rations of very postive words is larger than the absolute value of the ratios for the very negative words. So there is no way to directly compare two numbers and see if one word conveys the same magnitude of positive sentiment as another word conveys negative sentiment. So we should center all the values around netural so the absolute value fro neutral of the postive-to-negative ratio for a word would indicate how much sentiment (positive or negative) that word conveys.\n",
    "* When comparing absolute values it's easier to do that around zero than one. \n",
    "\n",
    "To fix these issues, we'll convert all of our ratios to new values using logarithms.\n",
    "\n",
    "**TODO:** Go through all the ratios you calculated and convert them to logarithms. (i.e. use `np.log(ratio)`)\n",
    "\n",
    "In the end, extremely positive and extremely negative words will have positive-to-negative ratios with similar magnitudes but opposite signs."
   ]
  },
  {
   "cell_type": "code",
   "execution_count": null,
   "metadata": {
    "collapsed": true
   },
   "outputs": [],
   "source": [
    "# TODO: Convert ratios to logs"
   ]
  },
  {
   "cell_type": "markdown",
   "metadata": {},
   "source": [
    "Examine the new ratios you've calculated for the same words from before:"
   ]
  },
  {
   "cell_type": "code",
   "execution_count": null,
   "metadata": {
    "collapsed": true
   },
   "outputs": [],
   "source": [
    "print(\"Pos-to-neg ratio for 'the' = {}\".format(pos_neg_ratios[\"the\"]))\n",
    "print(\"Pos-to-neg ratio for 'amazing' = {}\".format(pos_neg_ratios[\"amazing\"]))\n",
    "print(\"Pos-to-neg ratio for 'terrible' = {}\".format(pos_neg_ratios[\"terrible\"]))"
   ]
  },
  {
   "cell_type": "markdown",
   "metadata": {},
   "source": [
    "If everything worked, now you should see neutral words with values close to zero. In this case, \"the\" is near zero but slightly positive, so it was probably used in more positive reviews than negative reviews. But look at \"amazing\"'s ratio - it's above `1`, showing it is clearly a word with positive sentiment. And \"terrible\" has a similar score, but in the opposite direction, so it's below `-1`. It's now clear that both of these words are associated with specific, opposing sentiments.\n",
    "\n",
    "Now run the following cells to see more ratios. \n",
    "\n",
    "The first cell displays all the words, ordered by how associated they are with postive reviews. (Your notebook will most likely truncate the output so you won't actually see *all* the words in the list.)\n",
    "\n",
    "The second cell displays the 30 words most associated with negative reviews by reversing the order of the first list and then looking at the first 30 words. (If you want the second cell to display all the words, ordered by how associated they are with negative reviews, you could just write `reversed(pos_neg_ratios.most_common())`.)\n",
    "\n",
    "You should continue to see values similar to the earlier ones we checked – neutral words will be close to `0`, words will get more positive as their ratios approach and go above `1`, and words will get more negative as their ratios approach and go below `-1`. That's why we decided to use the logs instead of the raw ratios."
   ]
  },
  {
   "cell_type": "code",
   "execution_count": null,
   "metadata": {
    "collapsed": true
   },
   "outputs": [],
   "source": [
    "# words most frequently seen in a review with a \"POSITIVE\" label\n",
    "pos_neg_ratios.most_common()"
   ]
  },
  {
   "cell_type": "code",
   "execution_count": null,
   "metadata": {
    "collapsed": true
   },
   "outputs": [],
   "source": [
    "# words most frequently seen in a review with a \"NEGATIVE\" label\n",
    "list(reversed(pos_neg_ratios.most_common()))[0:30]\n",
    "\n",
    "# Note: Above is the code Andrew uses in his solution video, \n",
    "#       so we've included it here to avoid confusion.\n",
    "#       If you explore the documentation for the Counter class, \n",
    "#       you will see you could also find the 30 least common\n",
    "#       words like this: pos_neg_ratios.most_common()[:-31:-1]"
   ]
  },
  {
   "cell_type": "markdown",
   "metadata": {},
   "source": [
    "# End of Project 1. \n",
    "## Watch the next video to see Andrew's solution, then continue on to the next lesson.\n",
    "\n",
    "# Transforming Text into Numbers<a id='lesson_3'></a>\n",
    "The cells here include code Andrew shows in the next video. We've included it so you can run the code along with the video without having to type in everything."
   ]
  },
  {
   "cell_type": "code",
   "execution_count": null,
   "metadata": {
    "collapsed": true
   },
   "outputs": [],
   "source": [
    "from IPython.display import Image\n",
    "\n",
    "review = \"This was a horrible, terrible movie.\"\n",
    "\n",
    "Image(filename='sentiment_network.png')"
   ]
  },
  {
   "cell_type": "code",
   "execution_count": null,
   "metadata": {
    "collapsed": true
   },
   "outputs": [],
   "source": [
    "review = \"The movie was excellent\"\n",
    "\n",
    "Image(filename='sentiment_network_pos.png')"
   ]
  },
  {
   "cell_type": "markdown",
   "metadata": {},
   "source": [
    "# Project 2: Creating the Input/Output Data<a id='project_2'></a>\n",
    "\n",
    "**TODO:** Create a [set](https://docs.python.org/3/tutorial/datastructures.html#sets) named `vocab` that contains every word in the vocabulary."
   ]
  },
  {
   "cell_type": "code",
   "execution_count": null,
   "metadata": {
    "collapsed": true
   },
   "outputs": [],
   "source": [
    "# TODO: Create set named \"vocab\" containing all of the words from all of the reviews\n",
    "vocab = None"
   ]
  },
  {
   "cell_type": "markdown",
   "metadata": {},
   "source": [
    "Run the following cell to check your vocabulary size. If everything worked correctly, it should print **74074**"
   ]
  },
  {
   "cell_type": "code",
   "execution_count": null,
   "metadata": {
    "collapsed": true
   },
   "outputs": [],
   "source": [
    "vocab_size = len(vocab)\n",
    "print(vocab_size)"
   ]
  },
  {
   "cell_type": "markdown",
   "metadata": {},
   "source": [
    "Take a look at the following image. It represents the layers of the neural network you'll be building throughout this notebook. `layer_0` is the input layer, `layer_1` is a hidden layer, and `layer_2` is the output layer."
   ]
  },
  {
   "cell_type": "code",
   "execution_count": 1,
   "metadata": {},
   "outputs": [
    {
     "data": {
      "image/png": "[encoded data removed]",
      "text/plain": [
       "<IPython.core.display.Image object>"
      ]
     },
     "execution_count": 1,
     "metadata": {},
     "output_type": "execute_result"
    }
   ],
   "source": [
    "from IPython.display import Image\n",
    "Image(filename='sentiment_network_2.png')"
   ]
  },
  {
   "cell_type": "markdown",
   "metadata": {},
   "source": [
    "**TODO:** Create a numpy array called `layer_0` and initialize it to all zeros. You will find the [zeros](https://docs.scipy.org/doc/numpy/reference/generated/numpy.zeros.html) function particularly helpful here. Be sure you create `layer_0` as a 2-dimensional matrix with 1 row and `vocab_size` columns. "
   ]
  },
  {
   "cell_type": "code",
   "execution_count": null,
   "metadata": {
    "collapsed": true
   },
   "outputs": [],
   "source": [
    "# TODO: Create layer_0 matrix with dimensions 1 by vocab_size, initially filled with zeros\n",
    "layer_0 = None"
   ]
  },
  {
   "cell_type": "markdown",
   "metadata": {},
   "source": [
    "Run the following cell. It should display `(1, 74074)`"
   ]
  },
  {
   "cell_type": "code",
   "execution_count": null,
   "metadata": {
    "collapsed": true
   },
   "outputs": [],
   "source": [
    "layer_0.shape"
   ]
  },
  {
   "cell_type": "code",
   "execution_count": null,
   "metadata": {
    "collapsed": true
   },
   "outputs": [],
   "source": [
    "from IPython.display import Image\n",
    "Image(filename='sentiment_network.png')"
   ]
  },
  {
   "cell_type": "markdown",
   "metadata": {},
   "source": [
    "`layer_0` contains one entry for every word in the vocabulary, as shown in the above image. We need to make sure we know the index of each word, so run the following cell to create a lookup table that stores the index of every word."
   ]
  },
  {
   "cell_type": "code",
   "execution_count": null,
   "metadata": {
    "collapsed": true
   },
   "outputs": [],
   "source": [
    "# Create a dictionary of words in the vocabulary mapped to index positions\n",
    "# (to be used in layer_0)\n",
    "word2index = {}\n",
    "for i,word in enumerate(vocab):\n",
    "    word2index[word] = i\n",
    "    \n",
    "# display the map of words to indices\n",
    "word2index"
   ]
  },
  {
   "cell_type": "markdown",
   "metadata": {},
   "source": [
    "**TODO:**  Complete the implementation of `update_input_layer`. It should count \n",
    "          how many times each word is used in the given review, and then store\n",
    "          those counts at the appropriate indices inside `layer_0`."
   ]
  },
  {
   "cell_type": "code",
   "execution_count": null,
   "metadata": {
    "collapsed": true
   },
   "outputs": [],
   "source": [
    "def update_input_layer(review):\n",
    "    \"\"\" Modify the global layer_0 to represent the vector form of review.\n",
    "    The element at a given index of layer_0 should represent\n",
    "    how many times the given word occurs in the review.\n",
    "    Args:\n",
    "        review(string) - the string of the review\n",
    "    Returns:\n",
    "        None\n",
    "    \"\"\"\n",
    "    global layer_0\n",
    "    # clear out previous state by resetting the layer to be all 0s\n",
    "    layer_0 *= 0\n",
    "    \n",
    "    # TODO: count how many times each word is used in the given review and store the results in layer_0 "
   ]
  },
  {
   "cell_type": "markdown",
   "metadata": {},
   "source": [
    "Run the following cell to test updating the input layer with the first review. The indices assigned may not be the same as in the solution, but hopefully you'll see some non-zero values in `layer_0`.  "
   ]
  },
  {
   "cell_type": "code",
   "execution_count": null,
   "metadata": {
    "collapsed": true
   },
   "outputs": [],
   "source": [
    "update_input_layer(reviews[0])\n",
    "layer_0"
   ]
  },
  {
   "cell_type": "markdown",
   "metadata": {},
   "source": [
    "**TODO:** Complete the implementation of `get_target_for_labels`. It should return `0` or `1`, \n",
    "          depending on whether the given label is `NEGATIVE` or `POSITIVE`, respectively."
   ]
  },
  {
   "cell_type": "code",
   "execution_count": null,
   "metadata": {
    "collapsed": true
   },
   "outputs": [],
   "source": [
    "def get_target_for_label(label):\n",
    "    \"\"\"Convert a label to `0` or `1`.\n",
    "    Args:\n",
    "        label(string) - Either \"POSITIVE\" or \"NEGATIVE\".\n",
    "    Returns:\n",
    "        `0` or `1`.\n",
    "    \"\"\"\n",
    "    # TODO: Your code here"
   ]
  },
  {
   "cell_type": "markdown",
   "metadata": {},
   "source": [
    "Run the following two cells. They should print out`'POSITIVE'` and `1`, respectively."
   ]
  },
  {
   "cell_type": "code",
   "execution_count": null,
   "metadata": {
    "collapsed": true
   },
   "outputs": [],
   "source": [
    "labels[0]"
   ]
  },
  {
   "cell_type": "code",
   "execution_count": null,
   "metadata": {
    "collapsed": true
   },
   "outputs": [],
   "source": [
    "get_target_for_label(labels[0])"
   ]
  },
  {
   "cell_type": "markdown",
   "metadata": {},
   "source": [
    "Run the following two cells. They should print out `'NEGATIVE'` and `0`, respectively."
   ]
  },
  {
   "cell_type": "code",
   "execution_count": null,
   "metadata": {
    "collapsed": true
   },
   "outputs": [],
   "source": [
    "labels[1]"
   ]
  },
  {
   "cell_type": "code",
   "execution_count": null,
   "metadata": {
    "collapsed": true
   },
   "outputs": [],
   "source": [
    "get_target_for_label(labels[1])"
   ]
  },
  {
   "cell_type": "markdown",
   "metadata": {},
   "source": [
    "# End of Project 2. \n",
    "## Watch the next video to see Andrew's solution, then continue on to the next lesson."
   ]
  },
  {
   "cell_type": "markdown",
   "metadata": {},
   "source": [
    "# Project 3: Building a Neural Network<a id='project_3'></a>"
   ]
  },
  {
   "cell_type": "markdown",
   "metadata": {},
   "source": [
    "**TODO:** We've included the framework of a class called `SentimentNetork`. Implement all of the items marked `TODO` in the code. These include doing the following:\n",
    "- Create a basic neural network much like the networks you've seen in earlier lessons and in Project 1, with an input layer, a hidden layer, and an output layer. \n",
    "- Do **not** add a non-linearity in the hidden layer. That is, do not use an activation function when calculating the hidden layer outputs.\n",
    "- Re-use the code from earlier in this notebook to create the training data (see `TODO`s in the code)\n",
    "- Implement the `pre_process_data` function to create the vocabulary for our training data generating functions\n",
    "- Ensure `train` trains over the entire corpus"
   ]
  },
  {
   "cell_type": "markdown",
   "metadata": {},
   "source": [
    "### Where to Get Help if You Need it\n",
    "- Re-watch earlier Udacity lectures\n",
    "- Chapters 3-5 - [Grokking Deep Learning](https://www.manning.com/books/grokking-deep-learning) - (Check inside your classroom for a discount code)"
   ]
  },
  {
   "cell_type": "code",
   "execution_count": null,
   "metadata": {
    "collapsed": true
   },
   "outputs": [],
   "source": [
    "import time\n",
    "import sys\n",
    "import numpy as np\n",
    "\n",
    "# Encapsulate our neural network in a class\n",
    "class SentimentNetwork:\n",
    "    def __init__(self, reviews, labels, hidden_nodes = 10, learning_rate = 0.1):\n",
    "        \"\"\"Create a SentimenNetwork with the given settings\n",
    "        Args:\n",
    "            reviews(list) - List of reviews used for training\n",
    "            labels(list) - List of POSITIVE/NEGATIVE labels associated with the given reviews\n",
    "            hidden_nodes(int) - Number of nodes to create in the hidden layer\n",
    "            learning_rate(float) - Learning rate to use while training\n",
    "        \n",
    "        \"\"\"\n",
    "        # Assign a seed to our random number generator to ensure we get\n",
    "        # reproducable results during development \n",
    "        np.random.seed(1)\n",
    "\n",
    "        # process the reviews and their associated labels so that everything\n",
    "        # is ready for training\n",
    "        self.pre_process_data(reviews, labels)\n",
    "        \n",
    "        # Build the network to have the number of hidden nodes and the learning rate that\n",
    "        # were passed into this initializer. Make the same number of input nodes as\n",
    "        # there are vocabulary words and create a single output node.\n",
    "        self.init_network(len(self.review_vocab),hidden_nodes, 1, learning_rate)\n",
    "\n",
    "    def pre_process_data(self, reviews, labels):\n",
    "        \n",
    "        review_vocab = set()\n",
    "        # TODO: populate review_vocab with all of the words in the given reviews\n",
    "        #       Remember to split reviews into individual words \n",
    "        #       using \"split(' ')\" instead of \"split()\".\n",
    "        \n",
    "        # Convert the vocabulary set to a list so we can access words via indices\n",
    "        self.review_vocab = list(review_vocab)\n",
    "        \n",
    "        label_vocab = set()\n",
    "        # TODO: populate label_vocab with all of the words in the given labels.\n",
    "        #       There is no need to split the labels because each one is a single word.\n",
    "        \n",
    "        # Convert the label vocabulary set to a list so we can access labels via indices\n",
    "        self.label_vocab = list(label_vocab)\n",
    "        \n",
    "        # Store the sizes of the review and label vocabularies.\n",
    "        self.review_vocab_size = len(self.review_vocab)\n",
    "        self.label_vocab_size = len(self.label_vocab)\n",
    "        \n",
    "        # Create a dictionary of words in the vocabulary mapped to index positions\n",
    "        self.word2index = {}\n",
    "        # TODO: populate self.word2index with indices for all the words in self.review_vocab\n",
    "        #       like you saw earlier in the notebook\n",
    "        \n",
    "        # Create a dictionary of labels mapped to index positions\n",
    "        self.label2index = {}\n",
    "        # TODO: do the same thing you did for self.word2index and self.review_vocab, \n",
    "        #       but for self.label2index and self.label_vocab instead\n",
    "         \n",
    "        \n",
    "    def init_network(self, input_nodes, hidden_nodes, output_nodes, learning_rate):\n",
    "        # Store the number of nodes in input, hidden, and output layers.\n",
    "        self.input_nodes = input_nodes\n",
    "        self.hidden_nodes = hidden_nodes\n",
    "        self.output_nodes = output_nodes\n",
    "\n",
    "        # Store the learning rate\n",
    "        self.learning_rate = learning_rate\n",
    "\n",
    "        # Initialize weights\n",
    "        \n",
    "        # TODO: initialize self.weights_0_1 as a matrix of zeros. These are the weights between\n",
    "        #       the input layer and the hidden layer.\n",
    "        self.weights_0_1 = None\n",
    "        \n",
    "        # TODO: initialize self.weights_1_2 as a matrix of random values. \n",
    "        #       These are the weights between the hidden layer and the output layer.\n",
    "        self.weights_1_2 = None\n",
    "        \n",
    "        # TODO: Create the input layer, a two-dimensional matrix with shape \n",
    "        #       1 x input_nodes, with all values initialized to zero\n",
    "        self.layer_0 = np.zeros((1,input_nodes))\n",
    "    \n",
    "        \n",
    "    def update_input_layer(self,review):\n",
    "        # TODO: You can copy most of the code you wrote for update_input_layer \n",
    "        #       earlier in this notebook. \n",
    "        #\n",
    "        #       However, MAKE SURE YOU CHANGE ALL VARIABLES TO REFERENCE\n",
    "        #       THE VERSIONS STORED IN THIS OBJECT, NOT THE GLOBAL OBJECTS.\n",
    "        #       For example, replace \"layer_0 *= 0\" with \"self.layer_0 *= 0\"\n",
    "        pass\n",
    "                \n",
    "    def get_target_for_label(self,label):\n",
    "        # TODO: Copy the code you wrote for get_target_for_label \n",
    "        #       earlier in this notebook. \n",
    "        pass\n",
    "        \n",
    "    def sigmoid(self,x):\n",
    "        # TODO: Return the result of calculating the sigmoid activation function\n",
    "        #       shown in the lectures\n",
    "        pass\n",
    "    \n",
    "    def sigmoid_output_2_derivative(self,output):\n",
    "        # TODO: Return the derivative of the sigmoid activation function, \n",
    "        #       where \"output\" is the original output from the sigmoid fucntion \n",
    "        pass\n",
    "\n",
    "    def train(self, training_reviews, training_labels):\n",
    "        \n",
    "        # make sure out we have a matching number of reviews and labels\n",
    "        assert(len(training_reviews) == len(training_labels))\n",
    "        \n",
    "        # Keep track of correct predictions to display accuracy during training \n",
    "        correct_so_far = 0\n",
    "        \n",
    "        # Remember when we started for printing time statistics\n",
    "        start = time.time()\n",
    "\n",
    "        # loop through all the given reviews and run a forward and backward pass,\n",
    "        # updating weights for every item\n",
    "        for i in range(len(training_reviews)):\n",
    "            \n",
    "            # TODO: Get the next review and its correct label\n",
    "            \n",
    "            # TODO: Implement the forward pass through the network. \n",
    "            #       That means use the given review to update the input layer, \n",
    "            #       then calculate values for the hidden layer,\n",
    "            #       and finally calculate the output layer.\n",
    "            # \n",
    "            #       Do not use an activation function for the hidden layer,\n",
    "            #       but use the sigmoid activation function for the output layer.\n",
    "            \n",
    "            # TODO: Implement the back propagation pass here. \n",
    "            #       That means calculate the error for the forward pass's prediction\n",
    "            #       and update the weights in the network according to their\n",
    "            #       contributions toward the error, as calculated via the\n",
    "            #       gradient descent and back propagation algorithms you \n",
    "            #       learned in class.\n",
    "            \n",
    "            # TODO: Keep track of correct predictions. To determine if the prediction was\n",
    "            #       correct, check that the absolute value of the output error \n",
    "            #       is less than 0.5. If so, add one to the correct_so_far count.\n",
    "            \n",
    "            # For debug purposes, print out our prediction accuracy and speed \n",
    "            # throughout the training process. \n",
    "\n",
    "            elapsed_time = float(time.time() - start)\n",
    "            reviews_per_second = i / elapsed_time if elapsed_time > 0 else 0\n",
    "            \n",
    "            sys.stdout.write(\"\\rProgress:\" + str(100 * i/float(len(training_reviews)))[:4] \\\n",
    "                             + \"% Speed(reviews/sec):\" + str(reviews_per_second)[0:5] \\\n",
    "                             + \" #Correct:\" + str(correct_so_far) + \" #Trained:\" + str(i+1) \\\n",
    "                             + \" Training Accuracy:\" + str(correct_so_far * 100 / float(i+1))[:4] + \"%\")\n",
    "            if(i % 2500 == 0):\n",
    "                print(\"\")\n",
    "    \n",
    "    def test(self, testing_reviews, testing_labels):\n",
    "        \"\"\"\n",
    "        Attempts to predict the labels for the given testing_reviews,\n",
    "        and uses the test_labels to calculate the accuracy of those predictions.\n",
    "        \"\"\"\n",
    "        \n",
    "        # keep track of how many correct predictions we make\n",
    "        correct = 0\n",
    "\n",
    "        # we'll time how many predictions per second we make\n",
    "        start = time.time()\n",
    "\n",
    "        # Loop through each of the given reviews and call run to predict\n",
    "        # its label. \n",
    "        for i in range(len(testing_reviews)):\n",
    "            pred = self.run(testing_reviews[i])\n",
    "            if(pred == testing_labels[i]):\n",
    "                correct += 1\n",
    "            \n",
    "            # For debug purposes, print out our prediction accuracy and speed \n",
    "            # throughout the prediction process. \n",
    "\n",
    "            elapsed_time = float(time.time() - start)\n",
    "            reviews_per_second = i / elapsed_time if elapsed_time > 0 else 0\n",
    "            \n",
    "            sys.stdout.write(\"\\rProgress:\" + str(100 * i/float(len(testing_reviews)))[:4] \\\n",
    "                             + \"% Speed(reviews/sec):\" + str(reviews_per_second)[0:5] \\\n",
    "                             + \" #Correct:\" + str(correct) + \" #Tested:\" + str(i+1) \\\n",
    "                             + \" Testing Accuracy:\" + str(correct * 100 / float(i+1))[:4] + \"%\")\n",
    "    \n",
    "    def run(self, review):\n",
    "        \"\"\"\n",
    "        Returns a POSITIVE or NEGATIVE prediction for the given review.\n",
    "        \"\"\"\n",
    "        # TODO: Run a forward pass through the network, like you did in the\n",
    "        #       \"train\" function. That means use the given review to \n",
    "        #       update the input layer, then calculate values for the hidden layer,\n",
    "        #       and finally calculate the output layer.\n",
    "        #\n",
    "        #       Note: The review passed into this function for prediction \n",
    "        #             might come from anywhere, so you should convert it \n",
    "        #             to lower case prior to using it.\n",
    "        \n",
    "        # TODO: The output layer should now contain a prediction. \n",
    "        #       Return `POSITIVE` for predictions greater-than-or-equal-to `0.5`, \n",
    "        #       and `NEGATIVE` otherwise.\n",
    "        pass\n"
   ]
  },
  {
   "cell_type": "markdown",
   "metadata": {},
   "source": [
    "Run the following cell to create a `SentimentNetwork` that will train on all but the last 1000 reviews (we're saving those for testing). Here we use a learning rate of `0.1`."
   ]
  },
  {
   "cell_type": "code",
   "execution_count": null,
   "metadata": {
    "collapsed": true
   },
   "outputs": [],
   "source": [
    "mlp = SentimentNetwork(reviews[:-1000],labels[:-1000], learning_rate=0.1)"
   ]
  },
  {
   "cell_type": "markdown",
   "metadata": {},
   "source": [
    "Run the following cell to test the network's performance against the last 1000 reviews (the ones we held out from our training set). \n",
    "\n",
    "**We have not trained the model yet, so the results should be about 50% as it will just be guessing and there are only two possible values to choose from.**"
   ]
  },
  {
   "cell_type": "code",
   "execution_count": null,
   "metadata": {
    "collapsed": true
   },
   "outputs": [],
   "source": [
    "mlp.test(reviews[-1000:],labels[-1000:])"
   ]
  },
  {
   "cell_type": "markdown",
   "metadata": {},
   "source": [
    "Run the following cell to actually train the network. During training, it will display the model's accuracy repeatedly as it trains so you can see how well it's doing."
   ]
  },
  {
   "cell_type": "code",
   "execution_count": null,
   "metadata": {
    "collapsed": true
   },
   "outputs": [],
   "source": [
    "mlp.train(reviews[:-1000],labels[:-1000])"
   ]
  },
  {
   "cell_type": "markdown",
   "metadata": {},
   "source": [
    "That most likely didn't train very well. Part of the reason may be because the learning rate is too high. Run the following cell to recreate the network with a smaller learning rate, `0.01`, and then train the new network."
   ]
  },
  {
   "cell_type": "code",
   "execution_count": null,
   "metadata": {
    "collapsed": true
   },
   "outputs": [],
   "source": [
    "mlp = SentimentNetwork(reviews[:-1000],labels[:-1000], learning_rate=0.01)\n",
    "mlp.train(reviews[:-1000],labels[:-1000])"
   ]
  },
  {
   "cell_type": "markdown",
   "metadata": {},
   "source": [
    "That probably wasn't much different. Run the following cell to recreate the network one more time with an even smaller learning rate, `0.001`, and then train the new network."
   ]
  },
  {
   "cell_type": "code",
   "execution_count": null,
   "metadata": {
    "collapsed": true
   },
   "outputs": [],
   "source": [
    "mlp = SentimentNetwork(reviews[:-1000],labels[:-1000], learning_rate=0.001)\n",
    "mlp.train(reviews[:-1000],labels[:-1000])"
   ]
  },
  {
   "cell_type": "markdown",
   "metadata": {},
   "source": [
    "With a learning rate of `0.001`, the network should finall have started to improve during training. It's still not very good, but it shows that this solution has potential. We will improve it in the next lesson."
   ]
  },
  {
   "cell_type": "markdown",
   "metadata": {},
   "source": [
    "# End of Project 3. \n",
    "## Watch the next video to see Andrew's solution, then continue on to the next lesson."
   ]
  },
  {
   "cell_type": "markdown",
   "metadata": {},
   "source": [
    "# Understanding Neural Noise<a id='lesson_4'></a>\n",
    "\n",
    "The following cells include includes the code Andrew shows in the next video. We've included it here so you can run the cells along with the video without having to type in everything."
   ]
  },
  {
   "cell_type": "code",
   "execution_count": null,
   "metadata": {
    "collapsed": true
   },
   "outputs": [],
   "source": [
    "from IPython.display import Image\n",
    "Image(filename='sentiment_network.png')"
   ]
  },
  {
   "cell_type": "code",
   "execution_count": null,
   "metadata": {
    "collapsed": true
   },
   "outputs": [],
   "source": [
    "def update_input_layer(review):\n",
    "    \n",
    "    global layer_0\n",
    "    \n",
    "    # clear out previous state, reset the layer to be all 0s\n",
    "    layer_0 *= 0\n",
    "    for word in review.split(\" \"):\n",
    "        layer_0[0][word2index[word]] += 1\n",
    "\n",
    "update_input_layer(reviews[0])"
   ]
  },
  {
   "cell_type": "code",
   "execution_count": null,
   "metadata": {
    "collapsed": true
   },
   "outputs": [],
   "source": [
    "layer_0"
   ]
  },
  {
   "cell_type": "code",
   "execution_count": null,
   "metadata": {
    "collapsed": true
   },
   "outputs": [],
   "source": [
    "review_counter = Counter()"
   ]
  },
  {
   "cell_type": "code",
   "execution_count": null,
   "metadata": {
    "collapsed": true
   },
   "outputs": [],
   "source": [
    "for word in reviews[0].split(\" \"):\n",
    "    review_counter[word] += 1"
   ]
  },
  {
   "cell_type": "code",
   "execution_count": null,
   "metadata": {
    "collapsed": true
   },
   "outputs": [],
   "source": [
    "review_counter.most_common()"
   ]
  },
  {
   "cell_type": "markdown",
   "metadata": {},
   "source": [
    "# Project 4: Reducing Noise in Our Input Data<a id='project_4'></a>\n",
    "\n",
    "**TODO:** Attempt to reduce the noise in the input data like Andrew did in the previous video. Specifically, do the following:\n",
    "* Copy the `SentimentNetwork` class you created earlier into the following cell.\n",
    "* Modify `update_input_layer` so it does not count how many times each word is used, but rather just stores whether or not a word was used. "
   ]
  },
  {
   "cell_type": "code",
   "execution_count": null,
   "metadata": {
    "collapsed": true
   },
   "outputs": [],
   "source": [
    "# TODO: -Copy the SentimentNetwork class from Projet 3 lesson\n",
    "#       -Modify it to reduce noise, like in the video "
   ]
  },
  {
   "cell_type": "markdown",
   "metadata": {},
   "source": [
    "Run the following cell to recreate the network and train it. Notice we've gone back to the higher learning rate of `0.1`."
   ]
  },
  {
   "cell_type": "code",
   "execution_count": null,
   "metadata": {
    "collapsed": true
   },
   "outputs": [],
   "source": [
    "mlp = SentimentNetwork(reviews[:-1000],labels[:-1000], learning_rate=0.1)\n",
    "mlp.train(reviews[:-1000],labels[:-1000])"
   ]
  },
  {
   "cell_type": "markdown",
   "metadata": {},
   "source": [
    "That should have trained much better than the earlier attempts. It's still not wonderful, but it should have improved dramatically. Run the following cell to test your model with 1000 predictions."
   ]
  },
  {
   "cell_type": "code",
   "execution_count": null,
   "metadata": {
    "collapsed": true
   },
   "outputs": [],
   "source": [
    "mlp.test(reviews[-1000:],labels[-1000:])"
   ]
  },
  {
   "cell_type": "markdown",
   "metadata": {},
   "source": [
    "# End of Project 4. \n",
    "## Andrew's solution was actually in the previous video, so rewatch that video if you had any problems with that project. Then continue on to the next lesson.\n",
    "# Analyzing Inefficiencies in our Network<a id='lesson_5'></a>\n",
    "The following cells include the code Andrew shows in the next video. We've included it here so you can run the cells along with the video without having to type in everything."
   ]
  },
  {
   "cell_type": "code",
   "execution_count": null,
   "metadata": {
    "collapsed": true
   },
   "outputs": [],
   "source": [
    "Image(filename='sentiment_network_sparse.png')"
   ]
  },
  {
   "cell_type": "code",
   "execution_count": null,
   "metadata": {
    "collapsed": true
   },
   "outputs": [],
   "source": [
    "layer_0 = np.zeros(10)"
   ]
  },
  {
   "cell_type": "code",
   "execution_count": null,
   "metadata": {
    "collapsed": true
   },
   "outputs": [],
   "source": [
    "layer_0"
   ]
  },
  {
   "cell_type": "code",
   "execution_count": null,
   "metadata": {
    "collapsed": true
   },
   "outputs": [],
   "source": [
    "layer_0[4] = 1\n",
    "layer_0[9] = 1"
   ]
  },
  {
   "cell_type": "code",
   "execution_count": null,
   "metadata": {
    "collapsed": true
   },
   "outputs": [],
   "source": [
    "layer_0"
   ]
  },
  {
   "cell_type": "code",
   "execution_count": null,
   "metadata": {
    "collapsed": true
   },
   "outputs": [],
   "source": [
    "weights_0_1 = np.random.randn(10,5)"
   ]
  },
  {
   "cell_type": "code",
   "execution_count": null,
   "metadata": {
    "collapsed": true
   },
   "outputs": [],
   "source": [
    "layer_0.dot(weights_0_1)"
   ]
  },
  {
   "cell_type": "code",
   "execution_count": null,
   "metadata": {
    "collapsed": true
   },
   "outputs": [],
   "source": [
    "indices = [4,9]"
   ]
  },
  {
   "cell_type": "code",
   "execution_count": null,
   "metadata": {
    "collapsed": true
   },
   "outputs": [],
   "source": [
    "layer_1 = np.zeros(5)"
   ]
  },
  {
   "cell_type": "code",
   "execution_count": null,
   "metadata": {
    "collapsed": true
   },
   "outputs": [],
   "source": [
    "for index in indices:\n",
    "    layer_1 += (1 * weights_0_1[index])"
   ]
  },
  {
   "cell_type": "code",
   "execution_count": null,
   "metadata": {
    "collapsed": true
   },
   "outputs": [],
   "source": [
    "layer_1"
   ]
  },
  {
   "cell_type": "code",
   "execution_count": null,
   "metadata": {
    "collapsed": true
   },
   "outputs": [],
   "source": [
    "Image(filename='sentiment_network_sparse_2.png')"
   ]
  },
  {
   "cell_type": "code",
   "execution_count": null,
   "metadata": {
    "collapsed": true
   },
   "outputs": [],
   "source": [
    "layer_1 = np.zeros(5)"
   ]
  },
  {
   "cell_type": "code",
   "execution_count": null,
   "metadata": {
    "collapsed": true
   },
   "outputs": [],
   "source": [
    "for index in indices:\n",
    "    layer_1 += (weights_0_1[index])"
   ]
  },
  {
   "cell_type": "code",
   "execution_count": null,
   "metadata": {
    "collapsed": true
   },
   "outputs": [],
   "source": [
    "layer_1"
   ]
  },
  {
   "cell_type": "markdown",
   "metadata": {},
   "source": [
    "# Project 5: Making our Network More Efficient<a id='project_5'></a>\n",
    "**TODO:** Make the `SentimentNetwork` class more efficient by eliminating unnecessary multiplications and additions that occur during forward and backward propagation. To do that, you can do the following:\n",
    "* Copy the `SentimentNetwork` class from the previous project into the following cell.\n",
    "* Remove the `update_input_layer` function - you will not need it in this version.\n",
    "* Modify `init_network`:\n",
    ">* You no longer need a separate input layer, so remove any mention of `self.layer_0`\n",
    ">* You will be dealing with the old hidden layer more directly, so create `self.layer_1`, a two-dimensional matrix with shape 1 x hidden_nodes, with all values initialized to zero\n",
    "* Modify `train`:\n",
    ">* Change the name of the input parameter `training_reviews` to `training_reviews_raw`. This will help with the next step.\n",
    ">* At the beginning of the function, you'll want to preprocess your reviews to convert them to a list of indices (from `word2index`) that are actually used in the review. This is equivalent to what you saw in the video when Andrew set specific indices to 1. Your code should create a local `list` variable named `training_reviews` that should contain a `list` for each review in `training_reviews_raw`. Those lists should contain the indices for words found in the review.\n",
    ">* Remove call to `update_input_layer`\n",
    ">* Use `self`'s  `layer_1` instead of a local `layer_1` object.\n",
    ">* In the forward pass, replace the code that updates `layer_1` with new logic that only adds the weights for the indices used in the review.\n",
    ">* When updating `weights_0_1`, only update the individual weights that were used in the forward pass.\n",
    "* Modify `run`:\n",
    ">* Remove call to `update_input_layer` \n",
    ">* Use `self`'s  `layer_1` instead of a local `layer_1` object.\n",
    ">* Much like you did in `train`, you will need to pre-process the `review` so you can work with word indices, then update `layer_1` by adding weights for the indices used in the review."
   ]
  },
  {
   "cell_type": "code",
   "execution_count": null,
   "metadata": {
    "collapsed": true
   },
   "outputs": [],
   "source": [
    "# TODO: -Copy the SentimentNetwork class from Project 4 lesson\n",
    "#       -Modify it according to the above instructions "
   ]
  },
  {
   "cell_type": "markdown",
   "metadata": {},
   "source": [
    "Run the following cell to recreate the network and train it once again."
   ]
  },
  {
   "cell_type": "code",
   "execution_count": null,
   "metadata": {
    "collapsed": true
   },
   "outputs": [],
   "source": [
    "mlp = SentimentNetwork(reviews[:-1000],labels[:-1000], learning_rate=0.1)\n",
    "mlp.train(reviews[:-1000],labels[:-1000])"
   ]
  },
  {
   "cell_type": "markdown",
   "metadata": {},
   "source": [
    "That should have trained much better than the earlier attempts. Run the following cell to test your model with 1000 predictions."
   ]
  },
  {
   "cell_type": "code",
   "execution_count": null,
   "metadata": {
    "collapsed": true
   },
   "outputs": [],
   "source": [
    "mlp.test(reviews[-1000:],labels[-1000:])"
   ]
  },
  {
   "cell_type": "markdown",
   "metadata": {},
   "source": [
    "# End of Project 5. \n",
    "## Watch the next video to see Andrew's solution, then continue on to the next lesson.\n",
    "# Further Noise Reduction<a id='lesson_6'></a>"
   ]
  },
  {
   "cell_type": "code",
   "execution_count": null,
   "metadata": {
    "collapsed": true
   },
   "outputs": [],
   "source": [
    "Image(filename='sentiment_network_sparse_2.png')"
   ]
  },
  {
   "cell_type": "code",
   "execution_count": null,
   "metadata": {
    "collapsed": true
   },
   "outputs": [],
   "source": [
    "# words most frequently seen in a review with a \"POSITIVE\" label\n",
    "pos_neg_ratios.most_common()"
   ]
  },
  {
   "cell_type": "code",
   "execution_count": null,
   "metadata": {
    "collapsed": true
   },
   "outputs": [],
   "source": [
    "# words most frequently seen in a review with a \"NEGATIVE\" label\n",
    "list(reversed(pos_neg_ratios.most_common()))[0:30]"
   ]
  },
  {
   "cell_type": "code",
   "execution_count": null,
   "metadata": {
    "collapsed": true
   },
   "outputs": [],
   "source": [
    "from bokeh.models import ColumnDataSource, LabelSet\n",
    "from bokeh.plotting import figure, show, output_file\n",
    "from bokeh.io import output_notebook\n",
    "output_notebook()"
   ]
  },
  {
   "cell_type": "code",
   "execution_count": null,
   "metadata": {
    "collapsed": true
   },
   "outputs": [],
   "source": [
    "hist, edges = np.histogram(list(map(lambda x:x[1],pos_neg_ratios.most_common())), density=True, bins=100, normed=True)\n",
    "\n",
    "p = figure(tools=\"pan,wheel_zoom,reset,save\",\n",
    "           toolbar_location=\"above\",\n",
    "           title=\"Word Positive/Negative Affinity Distribution\")\n",
    "p.quad(top=hist, bottom=0, left=edges[:-1], right=edges[1:], line_color=\"#555555\")\n",
    "show(p)"
   ]
  },
  {
   "cell_type": "code",
   "execution_count": null,
   "metadata": {
    "collapsed": true
   },
   "outputs": [],
   "source": [
    "frequency_frequency = Counter()\n",
    "\n",
    "for word, cnt in total_counts.most_common():\n",
    "    frequency_frequency[cnt] += 1"
   ]
  },
  {
   "cell_type": "code",
   "execution_count": null,
   "metadata": {
    "collapsed": true
   },
   "outputs": [],
   "source": [
    "hist, edges = np.histogram(list(map(lambda x:x[1],frequency_frequency.most_common())), density=True, bins=100, normed=True)\n",
    "\n",
    "p = figure(tools=\"pan,wheel_zoom,reset,save\",\n",
    "           toolbar_location=\"above\",\n",
    "           title=\"The frequency distribution of the words in our corpus\")\n",
    "p.quad(top=hist, bottom=0, left=edges[:-1], right=edges[1:], line_color=\"#555555\")\n",
    "show(p)"
   ]
  },
  {
   "cell_type": "markdown",
   "metadata": {},
   "source": [
    "# Project 6: Reducing Noise by Strategically Reducing the Vocabulary<a id='project_6'></a>\n",
    "\n",
    "**TODO:** Improve `SentimentNetwork`'s performance by reducing more noise in the vocabulary. Specifically, do the following:\n",
    "* Copy the `SentimentNetwork` class from the previous project into the following cell.\n",
    "* Modify `pre_process_data`:\n",
    ">* Add two additional parameters: `min_count` and `polarity_cutoff`\n",
    ">* Calculate the positive-to-negative ratios of words used in the reviews. (You can use code you've written elsewhere in the notebook, but we are moving it into the class like we did with other helper code earlier.)\n",
    ">* Andrew's solution only calculates a postive-to-negative ratio for words that occur at least 50 times. This keeps the network from attributing too much sentiment to rarer words. You can choose to add this to your solution if you would like.  \n",
    ">* Change so words are only added to the vocabulary if they occur in the vocabulary more than `min_count` times.\n",
    ">* Change so words are only added to the vocabulary if the absolute value of their postive-to-negative ratio is at least `polarity_cutoff`\n",
    "* Modify `__init__`:\n",
    ">* Add the same two parameters (`min_count` and `polarity_cutoff`) and use them when you call `pre_process_data`"
   ]
  },
  {
   "cell_type": "code",
   "execution_count": null,
   "metadata": {
    "collapsed": true
   },
   "outputs": [],
   "source": [
    "# TODO: -Copy the SentimentNetwork class from Project 5 lesson\n",
    "#       -Modify it according to the above instructions "
   ]
  },
  {
   "cell_type": "markdown",
   "metadata": {},
   "source": [
    "Run the following cell to train your network with a small polarity cutoff."
   ]
  },
  {
   "cell_type": "code",
   "execution_count": null,
   "metadata": {
    "collapsed": true
   },
   "outputs": [],
   "source": [
    "mlp = SentimentNetwork(reviews[:-1000],labels[:-1000],min_count=20,polarity_cutoff=0.05,learning_rate=0.01)\n",
    "mlp.train(reviews[:-1000],labels[:-1000])"
   ]
  },
  {
   "cell_type": "markdown",
   "metadata": {},
   "source": [
    "And run the following cell to test it's performance. It should be "
   ]
  },
  {
   "cell_type": "code",
   "execution_count": null,
   "metadata": {
    "collapsed": true
   },
   "outputs": [],
   "source": [
    "mlp.test(reviews[-1000:],labels[-1000:])"
   ]
  },
  {
   "cell_type": "markdown",
   "metadata": {},
   "source": [
    "Run the following cell to train your network with a much larger polarity cutoff."
   ]
  },
  {
   "cell_type": "code",
   "execution_count": null,
   "metadata": {
    "collapsed": true
   },
   "outputs": [],
   "source": [
    "mlp = SentimentNetwork(reviews[:-1000],labels[:-1000],min_count=20,polarity_cutoff=0.8,learning_rate=0.01)\n",
    "mlp.train(reviews[:-1000],labels[:-1000])"
   ]
  },
  {
   "cell_type": "markdown",
   "metadata": {},
   "source": [
    "And run the following cell to test it's performance."
   ]
  },
  {
   "cell_type": "code",
   "execution_count": null,
   "metadata": {
    "collapsed": true
   },
   "outputs": [],
   "source": [
    "mlp.test(reviews[-1000:],labels[-1000:])"
   ]
  },
  {
   "cell_type": "markdown",
   "metadata": {},
   "source": [
    "# End of Project 6. \n",
    "## Watch the next video to see Andrew's solution, then continue on to the next lesson."
   ]
  },
  {
   "cell_type": "markdown",
   "metadata": {
    "collapsed": true
   },
   "source": [
    "# Analysis: What's Going on in the Weights?<a id='lesson_7'></a>"
   ]
  },
  {
   "cell_type": "code",
   "execution_count": null,
   "metadata": {
    "collapsed": true
   },
   "outputs": [],
   "source": [
    "mlp_full = SentimentNetwork(reviews[:-1000],labels[:-1000],min_count=0,polarity_cutoff=0,learning_rate=0.01)"
   ]
  },
  {
   "cell_type": "code",
   "execution_count": null,
   "metadata": {
    "collapsed": true
   },
   "outputs": [],
   "source": [
    "mlp_full.train(reviews[:-1000],labels[:-1000])"
   ]
  },
  {
   "cell_type": "code",
   "execution_count": null,
   "metadata": {
    "collapsed": true
   },
   "outputs": [],
   "source": [
    "Image(filename='sentiment_network_sparse.png')"
   ]
  },
  {
   "cell_type": "code",
   "execution_count": null,
   "metadata": {
    "collapsed": true
   },
   "outputs": [],
   "source": [
    "def get_most_similar_words(focus = \"horrible\"):\n",
    "    most_similar = Counter()\n",
    "\n",
    "    for word in mlp_full.word2index.keys():\n",
    "        most_similar[word] = np.dot(mlp_full.weights_0_1[mlp_full.word2index[word]],mlp_full.weights_0_1[mlp_full.word2index[focus]])\n",
    "    \n",
    "    return most_similar.most_common()"
   ]
  },
  {
   "cell_type": "code",
   "execution_count": null,
   "metadata": {
    "collapsed": true
   },
   "outputs": [],
   "source": [
    "get_most_similar_words(\"excellent\")"
   ]
  },
  {
   "cell_type": "code",
   "execution_count": null,
   "metadata": {
    "collapsed": true
   },
   "outputs": [],
   "source": [
    "get_most_similar_words(\"terrible\")"
   ]
  },
  {
   "cell_type": "code",
   "execution_count": null,
   "metadata": {
    "collapsed": true
   },
   "outputs": [],
   "source": [
    "import matplotlib.colors as colors\n",
    "\n",
    "words_to_visualize = list()\n",
    "for word, ratio in pos_neg_ratios.most_common(500):\n",
    "    if(word in mlp_full.word2index.keys()):\n",
    "        words_to_visualize.append(word)\n",
    "    \n",
    "for word, ratio in list(reversed(pos_neg_ratios.most_common()))[0:500]:\n",
    "    if(word in mlp_full.word2index.keys()):\n",
    "        words_to_visualize.append(word)"
   ]
  },
  {
   "cell_type": "code",
   "execution_count": null,
   "metadata": {
    "collapsed": true
   },
   "outputs": [],
   "source": [
    "pos = 0\n",
    "neg = 0\n",
    "\n",
    "colors_list = list()\n",
    "vectors_list = list()\n",
    "for word in words_to_visualize:\n",
    "    if word in pos_neg_ratios.keys():\n",
    "        vectors_list.append(mlp_full.weights_0_1[mlp_full.word2index[word]])\n",
    "        if(pos_neg_ratios[word] > 0):\n",
    "            pos+=1\n",
    "            colors_list.append(\"#00ff00\")\n",
    "        else:\n",
    "            neg+=1\n",
    "            colors_list.append(\"#000000\")"
   ]
  },
  {
   "cell_type": "code",
   "execution_count": null,
   "metadata": {
    "collapsed": true
   },
   "outputs": [],
   "source": [
    "from sklearn.manifold import TSNE\n",
    "tsne = TSNE(n_components=2, random_state=0)\n",
    "words_top_ted_tsne = tsne.fit_transform(vectors_list)"
   ]
  },
  {
   "cell_type": "code",
   "execution_count": null,
   "metadata": {
    "collapsed": true
   },
   "outputs": [],
   "source": [
    "p = figure(tools=\"pan,wheel_zoom,reset,save\",\n",
    "           toolbar_location=\"above\",\n",
    "           title=\"vector T-SNE for most polarized words\")\n",
    "\n",
    "source = ColumnDataSource(data=dict(x1=words_top_ted_tsne[:,0],\n",
    "                                    x2=words_top_ted_tsne[:,1],\n",
    "                                    names=words_to_visualize,\n",
    "                                    color=colors_list))\n",
    "\n",
    "p.scatter(x=\"x1\", y=\"x2\", size=8, source=source, fill_color=\"color\")\n",
    "\n",
    "word_labels = LabelSet(x=\"x1\", y=\"x2\", text=\"names\", y_offset=6,\n",
    "                  text_font_size=\"8pt\", text_color=\"#555555\",\n",
    "                  source=source, text_align='center')\n",
    "p.add_layout(word_labels)\n",
    "\n",
    "show(p)\n",
    "\n",
    "# green indicates positive words, black indicates negative words"
   ]
  }
 ],
 "metadata": {
  "anaconda-cloud": {},
  "kernelspec": {
   "display_name": "Python 3",
   "language": "python",
   "name": "python3"
  },
  "language_info": {
   "codemirror_mode": {
    "name": "ipython",
    "version": 3
   },
   "file_extension": ".py",
   "mimetype": "text/x-python",
   "name": "python",
   "nbconvert_exporter": "python",
   "pygments_lexer": "ipython3",
   "version": "3.6.1"
  }
 },
 "nbformat": 4,
 "nbformat_minor": 1
}
